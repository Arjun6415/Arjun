{
 "cells": [
  {
   "cell_type": "code",
   "execution_count": null,
   "id": "afaf13b1-3213-4fea-80dd-c309675453b7",
   "metadata": {},
   "outputs": [],
   "source": [
    "Ans1."
   ]
  },
  {
   "cell_type": "code",
   "execution_count": null,
   "id": "5d073cb7-f55d-4868-b5c3-1315d940a860",
   "metadata": {},
   "outputs": [],
   "source": [
    "The built-in Python function used to open a file is 'open()'\n",
    "    \n",
    "    The 'open()' function takes two parameters: The nem of the file, and the mode in which you want to open the file.The mode specifies how you want to use the file(read,write etc)and what you want to do if the file already exists or if the file doesn't exist.\n",
    "    \n",
    "    The different modes of opening a file are:\n",
    "        \n",
    "        1.'r'(read only) - This is the default mode.It opens the file for reading,and an error is raised if the file doesn;t exist.\n",
    "        \n",
    "        2.'w'(Write only) - This mode opens the file writing.If the file already exists,its content is truncated(i.e-deleted).If the file doesn't exist, a new file is created.\n",
    "        \n",
    "        3.'a'(Append only) - This opens the file for writing,but it appends the new data to the end of the file instead of overwriting its content.If the file doesn't exist a new file is created.\n",
    "        \n",
    "        4. 'x'(Exclusive Creation) - This mode is similar to 'w',but it opens the file only if it doesn't already exist.If the file exists,an error is raised.\n",
    "        \n",
    "        5.'b'(Binary')-This mode is used to open the file in binary mode.It can be combined with any of the modes above(e.g - 'rb' for binary read-only mode, 'wb' for binary write-only mode)\n",
    "              \n",
    "        6. 't'(Text)- This mode is used to open the file in text mode.It can be combined with any of the modes above(e.g- 'rt' for text read-only mode, 'w"
   ]
  },
  {
   "cell_type": "code",
   "execution_count": null,
   "id": "5424cf13-afc5-4f4c-ac9b-b89bdcc129af",
   "metadata": {},
   "outputs": [],
   "source": [
    "Ans2."
   ]
  },
  {
   "cell_type": "code",
   "execution_count": null,
   "id": "09ed0fc9-6dd9-4a51-873c-1558fa12c7f3",
   "metadata": {},
   "outputs": [],
   "source": [
    "The 'close' function is used to close a file that was previously opened with the 'open()' function.\n",
    "    \n",
    "    It's important to close a file after you're done with it several reasons:\n",
    "        \n",
    "        1.Releasing system resources: When you open a file,your operating system allocates system resources(such as memory and disk space) to handle the file.If you don't close the file,these resources won't be freed until your program terminates.\n",
    "        \n",
    "        2.Flushing buffered data:When you write to a file,the data is often buffered in memory before its actually written to disk.This can improve performance,but it also means that the data may not be immediately written to disk even if you close your program.Closing the file explicitly flushes any remaining buffered data,ensuring that it's written to disk.\n",
    "        \n",
    "        3.Preventing data corruption: If you don't close a file after writing to it,there a risk that data may become corrupted if your program terminates before the data is flushed.Closing the file explicitely ensures that the data is written to disk and reduces the risk of corruption.\n",
    "        \n",
    "        4.Improving program robustness:Failing to close a file can lead to unpredictable behaviour and bugs in your program.Closing the file explicitly makes it clear when yor're done with the file and helps prevent bugs.\n",
    "        \n",
    "        Its good to practice to close a file after you're done.\n",
    "        "
   ]
  },
  {
   "cell_type": "code",
   "execution_count": null,
   "id": "aadc7b3a-bb7e-4164-9822-c93353fca81f",
   "metadata": {},
   "outputs": [],
   "source": [
    "Ans3."
   ]
  },
  {
   "cell_type": "code",
   "execution_count": null,
   "id": "5ab07ab4-6940-42a4-a740-5da7390340a1",
   "metadata": {},
   "outputs": [],
   "source": [
    " # open the file in write mode\n",
    "    file = open(\"My_file.txt\", \"w\")\n",
    "    \n",
    "    #write to the file\n",
    "    file.write(\"I want to become a Data Scientist\")\n",
    "    \n",
    "    #close the file\n",
    "    file.close()\n",
    "    \n",
    "    #open the file in read mode\n",
    "    file = open(\"my_file.text\", \"r\") \n",
    "    content = file.read()\n",
    "    \n",
    "    \n",
    "    # Read the content of the file\n",
    "    content = file.read()\n",
    "    \n",
    "    #print the content of the file\n",
    "    print(content)\n",
    "    \n",
    "    #close the file\n",
    "    file.close()\n",
    "    \n",
    "    This code will create a file named'my_file.txt'in the current directory,write the specified text to it,close the file,and then reopen the file in read mode,read its content and print it.\n",
    "    \n",
    "    "
   ]
  },
  {
   "cell_type": "code",
   "execution_count": null,
   "id": "dd42028f-0c70-4331-8967-b9e8b7ecd2f9",
   "metadata": {},
   "outputs": [],
   "source": [
    "Ans4."
   ]
  },
  {
   "cell_type": "code",
   "execution_count": null,
   "id": "56f3442c-82dc-4f11-99bb-39d45176a64e",
   "metadata": {},
   "outputs": [],
   "source": [
    "In python 'read()' method reads the entire contents of the file and returns it as a single string.\n",
    "    \n",
    "    For example:\n",
    "        \n",
    "        #open the file in read mode\n",
    "        file = open(\"my_file.txt\", \"r\")\n",
    "        \n",
    "        #print the content of the file\n",
    "        print(content)\n",
    "        \n",
    "        #close the file\n",
    "        file.close()\n",
    "        \n",
    "    2.'readline()'-The 'readline()' method reads a single line from a file and returns it as astring.\n",
    "    \n",
    "    For example:\n",
    "        \n",
    "        #open the file in read mode\n",
    "        file = open(\"myfile.txt\", \"r\")\n",
    "        \n",
    "        #read the first lineline of the file\n",
    "        fist_line = file.readline()\n",
    "        \n",
    "        #print the first line of the file\n",
    "        print(first_line)\n",
    "        \n",
    "         #close the file\n",
    "        file.close()\n",
    "        \n",
    "        \n",
    "    3.'readlines()' -The 'readlines()' method reads all the lines of a file and returns them as alist of strings\n",
    "    \n",
    "    For example:\n",
    "                 #open the file in read mode\n",
    "                  file = open(\"my_file.txt\", \"r\")\n",
    "                \n",
    "                #Read all the lines of the file\n",
    "                lines = file.readlines()\n",
    "                \n",
    "                #print all the lines of the file\n",
    "                for lines in lines:\n",
    "                    print(line)\n",
    "                    \n",
    "                    #close the file\n",
    "                    file.close()"
   ]
  },
  {
   "cell_type": "code",
   "execution_count": null,
   "id": "e8d16c1b-8ee9-4b4e-b3ee-b4745601c353",
   "metadata": {},
   "outputs": [],
   "source": [
    "Ans5."
   ]
  },
  {
   "cell_type": "code",
   "execution_count": null,
   "id": "4d849937-87f2-4578-86c2-7807eaba0e44",
   "metadata": {},
   "outputs": [],
   "source": []
  }
 ],
 "metadata": {
  "kernelspec": {
   "display_name": "Python 3 (ipykernel)",
   "language": "python",
   "name": "python3"
  },
  "language_info": {
   "codemirror_mode": {
    "name": "ipython",
    "version": 3
   },
   "file_extension": ".py",
   "mimetype": "text/x-python",
   "name": "python",
   "nbconvert_exporter": "python",
   "pygments_lexer": "ipython3",
   "version": "3.10.6"
  }
 },
 "nbformat": 4,
 "nbformat_minor": 5
}
