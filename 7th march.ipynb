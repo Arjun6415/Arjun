{
 "cells": [
  {
   "cell_type": "code",
   "execution_count": null,
   "id": "a84a26bc-3eb3-41c6-a0d8-8c0af357b7d2",
   "metadata": {},
   "outputs": [],
   "source": [
    "Answer1."
   ]
  },
  {
   "cell_type": "code",
   "execution_count": null,
   "id": "77833751-6a5f-4df2-b640-dfe81460b6de",
   "metadata": {},
   "outputs": [],
   "source": [
    "1.Mean\n",
    "2.Median\n",
    "3.Mode"
   ]
  },
  {
   "cell_type": "code",
   "execution_count": null,
   "id": "e5ee2383-8796-4d98-9997-3e065cbeb5bc",
   "metadata": {},
   "outputs": [],
   "source": [
    "Answer2."
   ]
  },
  {
   "cell_type": "code",
   "execution_count": null,
   "id": "1d545867-5122-43c0-868f-3601956c2801",
   "metadata": {},
   "outputs": [],
   "source": [
    "Mean : Mean is the average of the given data\n",
    "Median: Median is used to measure central tendency when outliers is present\n",
    "Mode: Frquency of maximum occuring element"
   ]
  },
  {
   "cell_type": "code",
   "execution_count": null,
   "id": "204665e4-6564-4efb-9d53-f4f7af80505c",
   "metadata": {},
   "outputs": [],
   "source": [
    "Answer3."
   ]
  },
  {
   "cell_type": "code",
   "execution_count": 1,
   "id": "2642369e-b1cb-4448-8c40-91afb3345b98",
   "metadata": {},
   "outputs": [],
   "source": [
    " a = [178,177,176,177,178.2,178,175,179,180,175,178.9,176.2,177,172.5,178,176.5]"
   ]
  },
  {
   "cell_type": "code",
   "execution_count": 2,
   "id": "c906e1c8-717d-4b5d-8c45-56fbe300064e",
   "metadata": {},
   "outputs": [
    {
     "data": {
      "text/plain": [
       "177.01875"
      ]
     },
     "execution_count": 2,
     "metadata": {},
     "output_type": "execute_result"
    }
   ],
   "source": [
    "import numpy as np\n",
    "np.mean(a)"
   ]
  },
  {
   "cell_type": "code",
   "execution_count": 3,
   "id": "4beede5b-ada5-4904-ae45-f943f41fedca",
   "metadata": {},
   "outputs": [
    {
     "data": {
      "text/plain": [
       "177.0"
      ]
     },
     "execution_count": 3,
     "metadata": {},
     "output_type": "execute_result"
    }
   ],
   "source": [
    "np.median(a)"
   ]
  },
  {
   "cell_type": "code",
   "execution_count": 4,
   "id": "75761bb8-b452-4ebb-8723-deeb1ca91c65",
   "metadata": {},
   "outputs": [
    {
     "name": "stderr",
     "output_type": "stream",
     "text": [
      "/tmp/ipykernel_77/542156891.py:2: FutureWarning: Unlike other reduction functions (e.g. `skew`, `kurtosis`), the default behavior of `mode` typically preserves the axis it acts along. In SciPy 1.11.0, this behavior will change: the default value of `keepdims` will become False, the `axis` over which the statistic is taken will be eliminated, and the value None will no longer be accepted. Set `keepdims` to True or False to avoid this warning.\n",
      "  stats.mode(a)\n"
     ]
    },
    {
     "data": {
      "text/plain": [
       "ModeResult(mode=array([177.]), count=array([3]))"
      ]
     },
     "execution_count": 4,
     "metadata": {},
     "output_type": "execute_result"
    }
   ],
   "source": [
    "from scipy import stats\n",
    "stats.mode(a)"
   ]
  },
  {
   "cell_type": "code",
   "execution_count": null,
   "id": "4bf6f324-0521-4092-80c8-38237343d8ae",
   "metadata": {},
   "outputs": [],
   "source": [
    "Answer4."
   ]
  },
  {
   "cell_type": "code",
   "execution_count": 5,
   "id": "44b56268-ad6d-4736-a8c8-8e08f7bdf867",
   "metadata": {},
   "outputs": [],
   "source": [
    " a = [178,177,176,177,178.2,178,175,179,180,175,178.9,176.2,177,172.5,178,176.5]"
   ]
  },
  {
   "cell_type": "code",
   "execution_count": 6,
   "id": "8582d528-96fa-4908-b407-31d9e284a189",
   "metadata": {},
   "outputs": [
    {
     "data": {
      "text/plain": [
       "1.7885814036548633"
      ]
     },
     "execution_count": 6,
     "metadata": {},
     "output_type": "execute_result"
    }
   ],
   "source": [
    "import numpy as np\n",
    "np.std(a)"
   ]
  },
  {
   "cell_type": "code",
   "execution_count": null,
   "id": "0811f04d-11f3-4820-a73f-b64d8877ad5f",
   "metadata": {},
   "outputs": [],
   "source": [
    "Answer5."
   ]
  },
  {
   "cell_type": "code",
   "execution_count": null,
   "id": "5897d248-693f-468b-a443-ae8ed1e57ea5",
   "metadata": {},
   "outputs": [],
   "source": [
    "Example of variance:"
   ]
  },
  {
   "cell_type": "code",
   "execution_count": 7,
   "id": "be5c7a95-fae4-4b55-928a-6a7dd71363ab",
   "metadata": {},
   "outputs": [],
   "source": [
    "age_list = [23,45,67,54,32,34,35,46,35,23,31,12]"
   ]
  },
  {
   "cell_type": "code",
   "execution_count": null,
   "id": "7b82aed2-2780-453d-8e00-47aaf282d841",
   "metadata": {},
   "outputs": [],
   "source": [
    "Asnwer6."
   ]
  },
  {
   "cell_type": "code",
   "execution_count": null,
   "id": "dce15195-adb7-4b91-8383-f7e6e81f45fd",
   "metadata": {},
   "outputs": [],
   "source": [
    "Graphical representation of the set is called venn diagram"
   ]
  },
  {
   "cell_type": "code",
   "execution_count": null,
   "id": "4d04e48e-e89b-45e5-802a-3a34a422ad86",
   "metadata": {},
   "outputs": [],
   "source": [
    "Answer7."
   ]
  },
  {
   "cell_type": "code",
   "execution_count": 14,
   "id": "c01bf68a-ee4a-419b-b40b-a99921d26613",
   "metadata": {},
   "outputs": [],
   "source": [
    "A = { 2,3,4,5,6,7}\n",
    "B = {0,2,6,8,10}"
   ]
  },
  {
   "cell_type": "code",
   "execution_count": null,
   "id": "83335734-4ec1-44ef-a8b2-3be7523d0b08",
   "metadata": {},
   "outputs": [],
   "source": [
    "A union B = {0,2,3,4,5,6,7,8,10}\n",
    "A intersection B = {2,6}"
   ]
  },
  {
   "cell_type": "code",
   "execution_count": null,
   "id": "c600e6fb-ccbe-4709-b04b-cf994ec2e0ea",
   "metadata": {},
   "outputs": [],
   "source": [
    "Answer 8."
   ]
  },
  {
   "cell_type": "code",
   "execution_count": null,
   "id": "89b8ff7e-1a8a-4c41-b252-a77a569ef6a8",
   "metadata": {},
   "outputs": [],
   "source": [
    "Skewness is the measurement of the distortion of symmetrical distribution or asymmetry in a data set."
   ]
  },
  {
   "cell_type": "code",
   "execution_count": null,
   "id": "ee32ec91-eed2-476d-a895-af59848433e9",
   "metadata": {},
   "outputs": [],
   "source": [
    "Answer9."
   ]
  },
  {
   "cell_type": "code",
   "execution_count": null,
   "id": "c8c6954d-7677-4a5e-9491-d8433aef353b",
   "metadata": {},
   "outputs": [],
   "source": [
    "Mean >= Median >= Mode"
   ]
  },
  {
   "cell_type": "code",
   "execution_count": null,
   "id": "f8cb473e-9f5d-4f16-9851-c99da4a0ffde",
   "metadata": {},
   "outputs": [],
   "source": [
    "Answer10."
   ]
  },
  {
   "cell_type": "code",
   "execution_count": null,
   "id": "f8b5c327-84d2-4683-b3fb-c6e12d119005",
   "metadata": {},
   "outputs": [],
   "source": [
    "Difference between covariance and correlation:\n",
    "    covariance doesn't provide standards measurement while mean correlation provides the standard measurement \n",
    "    between the variable's relationship."
   ]
  },
  {
   "cell_type": "code",
   "execution_count": null,
   "id": "1757c1d9-ddce-4cc9-836d-aeb609da8b15",
   "metadata": {},
   "outputs": [],
   "source": [
    "Answer11."
   ]
  },
  {
   "cell_type": "code",
   "execution_count": null,
   "id": "9398047e-ea91-45b3-b2ad-436b9687f79e",
   "metadata": {},
   "outputs": [],
   "source": [
    "he formula for calculating the sample mean (average) of a dataset is:\n",
    "\n",
    "Sample Mean\n",
    "(\n",
    "�\n",
    "ˉ\n",
    ")\n",
    "=\n",
    "∑\n",
    "�\n",
    "=\n",
    "1\n",
    "�\n",
    "�\n",
    "�\n",
    "�\n",
    "Sample Mean( \n",
    "x\n",
    "ˉ\n",
    " )= \n",
    "n\n",
    "∑ \n",
    "i=1\n",
    "n\n",
    "​\n",
    " x \n",
    "i\n",
    "​\n",
    " \n",
    "​\n",
    " \n",
    "\n",
    "Where:\n",
    "\n",
    "�\n",
    "ˉ\n",
    "x\n",
    "ˉ\n",
    "  represents the sample mean.\n",
    "�\n",
    "�\n",
    "x \n",
    "i\n",
    "​\n",
    "  represents each individual data point in the dataset.\n",
    "�\n",
    "n is the total number of data points in the dataset.\n",
    "To calculate the sample mean, you sum up all the individual data points and then divide by the total number of data points.\n",
    "\n",
    "Let's go through an example calculation:\n",
    "\n",
    "Suppose you have the following dataset of exam scores for a class of 10 students:\n",
    "\n",
    "{\n",
    "85\n",
    ",\n",
    "92\n",
    ",\n",
    "78\n",
    ",\n",
    "90\n",
    ",\n",
    "88\n",
    ",\n",
    "76\n",
    ",\n",
    "89\n",
    ",\n",
    "94\n",
    ",\n",
    "87\n",
    ",\n",
    "91\n",
    "}\n",
    "{85,92,78,90,88,76,89,94,87,91}\n",
    "\n",
    "To calculate the sample mean:\n",
    "\n",
    "Add up all the individual scores: \n",
    "85\n",
    "+\n",
    "92\n",
    "+\n",
    "78\n",
    "+\n",
    "90\n",
    "+\n",
    "88\n",
    "+\n",
    "76\n",
    "+\n",
    "89\n",
    "+\n",
    "94\n",
    "+\n",
    "87\n",
    "+\n",
    "91\n",
    "=\n",
    "900\n",
    "85+92+78+90+88+76+89+94+87+91=900.\n",
    "Count the number of data points in the dataset, which is \n",
    "�\n",
    "=\n",
    "10\n",
    "n=10.\n",
    "Use the formula to calculate the sample mean:\n",
    "�\n",
    "ˉ\n",
    "=\n",
    "900\n",
    "10\n",
    "=\n",
    "90\n",
    "x\n",
    "ˉ\n",
    " = \n",
    "10\n",
    "900\n",
    "​\n",
    " =90\n",
    "\n",
    "So, the sample mean of the exam scores for this class is 90."
   ]
  },
  {
   "cell_type": "code",
   "execution_count": null,
   "id": "3b58d96c-8980-436e-b428-12289863931f",
   "metadata": {},
   "outputs": [],
   "source": [
    "Ans12."
   ]
  },
  {
   "cell_type": "code",
   "execution_count": null,
   "id": "ea75de36-ab68-4d8d-b895-52dd182679eb",
   "metadata": {},
   "outputs": [],
   "source": [
    "In a normal distribution, which is also known as a Gaussian distribution or a bell-shaped curve, the measures of central tendency, namely the mean, median, and mode, are all equal and located at the center of the distribution. This is one of the defining characteristics of a normal distribution.\n",
    "\n",
    "Mean (\n",
    "�\n",
    "μ): The mean of a normal distribution is located at the center of the distribution, and it is equal to the median and mode. This means that the arithmetic average of the data points in a normal distribution is the point where the curve is symmetrically balanced.\n",
    "\n",
    "Median: The median of a normal distribution is also located at the center of the distribution, and it is equal to the mean and mode. In a symmetric distribution like the normal distribution, the median is the value that divides the distribution into two equal halves.\n",
    "\n",
    "Mode: The mode of a normal distribution is, once again, located at the center of the distribution, and it is equal to the mean and median. In a normal distribution, there is only one mode, which is the peak of the distribution.\n",
    "\n",
    "So, in summary, for a normal distribution, all three measures of central tendency (mean, median, and mode) are equal and located at the center of the distribution, making it a symmetrical distribution. This is a unique characteristic of the normal distribution and is not necessarily true for other types of distributions."
   ]
  },
  {
   "cell_type": "code",
   "execution_count": null,
   "id": "33cada7b-84a7-4bbe-87af-a3a7cd755671",
   "metadata": {},
   "outputs": [],
   "source": [
    "Ans13."
   ]
  },
  {
   "cell_type": "code",
   "execution_count": null,
   "id": "9c91204f-9084-4947-a9dd-b55fc70fd16f",
   "metadata": {},
   "outputs": [],
   "source": [
    "Covariance and correlation are both measures used in statistics to describe the relationship between two variables, but they have different interpretations and scales. Here are the key differences between covariance and correlation:\n",
    "\n",
    "Definition:\n",
    "\n",
    "Covariance: Covariance is a measure of the degree to which two random variables change together. It indicates whether an increase in one variable corresponds to an increase or decrease in another variable. It can be positive, negative, or zero.\n",
    "Correlation: Correlation is a standardized measure of the linear relationship between two variables. It provides a value between -1 and 1, where -1 indicates a perfect negative linear relationship, 1 indicates a perfect positive linear relationship, and 0 indicates no linear relationship.\n",
    "Scale:\n",
    "\n",
    "Covariance: Covariance is not scaled, which means its value depends on the units of the variables being measured. As a result, it can be challenging to interpret the magnitude of covariance, especially when dealing with variables measured in different units.\n",
    "Correlation: Correlation is a unitless measure because it standardizes the covariance. It scales the covariance by dividing it by the product of the standard deviations of the two variables, ensuring that the correlation coefficient falls between -1 and 1, making it easier to interpret.\n",
    "Interpretation:\n",
    "\n",
    "Covariance: The magnitude of covariance indicates the strength of the linear relationship between two variables, but it does not provide information about the direction (positive or negative) or the strength relative to the variability of the individual variables.\n",
    "Correlation: The correlation coefficient provides a clear and standardized measure of the strength and direction of the linear relationship between two variables. A positive correlation coefficient (closer to 1) indicates a positive linear relationship, while a negative correlation coefficient (closer to -1) indicates a negative linear relationship. A correlation coefficient of 0 indicates no linear relationship.\n",
    "Range:\n",
    "\n",
    "Covariance: The range of covariance is unbounded, meaning it can take any real value.\n",
    "Correlation: The range of correlation is between -1 and 1, inclusive.\n",
    "In summary, covariance and correlation both describe the relationship between two variables, but correlation is preferred in many cases because it provides a standardized measure that is easier to interpret and compare across different datasets. Correlation is especially useful when dealing with variables measured in different units or when you want to assess the strength and direction of a linear relationship while controlling for the scale of the variables."
   ]
  },
  {
   "cell_type": "code",
   "execution_count": null,
   "id": "2578b180-309c-4333-a1ef-de3ccdb214b7",
   "metadata": {},
   "outputs": [],
   "source": [
    "Ans14."
   ]
  },
  {
   "cell_type": "code",
   "execution_count": null,
   "id": "7aaa810b-1cc2-4e46-8d74-a2a4b0396ebc",
   "metadata": {},
   "outputs": [],
   "source": []
  }
 ],
 "metadata": {
  "kernelspec": {
   "display_name": "Python 3 (ipykernel)",
   "language": "python",
   "name": "python3"
  },
  "language_info": {
   "codemirror_mode": {
    "name": "ipython",
    "version": 3
   },
   "file_extension": ".py",
   "mimetype": "text/x-python",
   "name": "python",
   "nbconvert_exporter": "python",
   "pygments_lexer": "ipython3",
   "version": "3.10.6"
  }
 },
 "nbformat": 4,
 "nbformat_minor": 5
}
