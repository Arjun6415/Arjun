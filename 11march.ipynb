{
 "cells": [
  {
   "cell_type": "code",
   "execution_count": null,
   "id": "5e2565cd-3fcb-4bd3-97ad-6885871626f0",
   "metadata": {},
   "outputs": [],
   "source": [
    "Ans1."
   ]
  },
  {
   "cell_type": "code",
   "execution_count": null,
   "id": "20eb9f4e-122f-4856-ae16-c720d4478b4c",
   "metadata": {},
   "outputs": [],
   "source": [
    "z-test is used to test a Null Hypothesis if the population variance is known, or if the sample size is larger than 30, for an unknown population variance. A t-test is used when the sample size is less than 30 and the population variance is unknown."
   ]
  },
  {
   "cell_type": "code",
   "execution_count": null,
   "id": "a4475fdd-5748-429d-b30c-9f59f8ae3ada",
   "metadata": {},
   "outputs": [],
   "source": [
    "Ans2."
   ]
  },
  {
   "cell_type": "code",
   "execution_count": null,
   "id": "2af9e7a0-638e-4a4f-a262-eed880701397",
   "metadata": {},
   "outputs": [],
   "source": [
    "A one-tailed test is based on a uni-directional hypothesis where the area of rejection is on only one side of the sampling distribution. It determines whether a particular population parameter is larger or smaller than the predefined parameter. It uses one single critical value to test the data.\n",
    "Example:Effect of participants of students in coding competition on their fear level.\n"
   ]
  },
  {
   "cell_type": "code",
   "execution_count": null,
   "id": "300e9b58-1098-42c5-aab0-5d3aa2e20f14",
   "metadata": {},
   "outputs": [],
   "source": [
    "two-tailed test is also called a nondirectional hypothesis. For checking whether the sample is greater or less than a range of values, we use the two-tailed. It is used for null hypothesis testing.\n",
    "Example: Effect of new bill pass on the loan of farmers.\n"
   ]
  },
  {
   "cell_type": "code",
   "execution_count": null,
   "id": "f5053b0a-97f0-4bc6-af3b-718a69d3b88f",
   "metadata": {},
   "outputs": [],
   "source": [
    "Ans3."
   ]
  },
  {
   "cell_type": "code",
   "execution_count": null,
   "id": "783a254e-02eb-4340-b977-b601d7bb3652",
   "metadata": {},
   "outputs": [],
   "source": [
    "type I error (false-positive) occurs if an investigator rejects a null hypothesis that is actually true in the population; a type II error (false-negative) occurs if the investigator fails to reject a null hypothesis that is actually false in the population."
   ]
  },
  {
   "cell_type": "code",
   "execution_count": null,
   "id": "d36cd26c-1204-43a3-8803-b6a49efdf051",
   "metadata": {},
   "outputs": [],
   "source": [
    "Ans4."
   ]
  },
  {
   "cell_type": "code",
   "execution_count": null,
   "id": "c2033658-8f65-42fe-aa9f-7725e176d233",
   "metadata": {},
   "outputs": [],
   "source": [
    "Let E1, E2,…, En be a set of events associated with a sample space S, where all the events E1, E2,…, En have nonzero probability of occurrence and they form a partition of S. Let A be any event associated with S, then according to Bayes theorem"
   ]
  },
  {
   "cell_type": "code",
   "execution_count": null,
   "id": "57c72b0b-c268-4ee6-8179-62fa76168ebc",
   "metadata": {},
   "outputs": [],
   "source": [
    "Example:A bag I contains 4 white and 6 black balls while another Bag II contains 4 white and 3 black balls. One ball is drawn at random from one of the bags, and it is found to be black. Find the probability that it was drawn from Bag I."
   ]
  },
  {
   "cell_type": "code",
   "execution_count": null,
   "id": "7728b618-e4c5-4d72-9e74-781084270cf9",
   "metadata": {},
   "outputs": [],
   "source": [
    "Ans5."
   ]
  },
  {
   "cell_type": "code",
   "execution_count": null,
   "id": "7428d76d-b9f6-43ba-96d4-be263dbe3d22",
   "metadata": {},
   "outputs": [],
   "source": [
    "To obtain this confidence interval, add and subtract the margin of error from the sample mean. This result is the upper limit and the lower limit of the confidence interval. The confidence interval may be wider or narrower depending on the degree of certainty, or estimation precision, that is required."
   ]
  },
  {
   "cell_type": "code",
   "execution_count": null,
   "id": "532610bb-312b-4d99-a84c-aa8b3ea931e7",
   "metadata": {},
   "outputs": [],
   "source": [
    "Ans6."
   ]
  },
  {
   "cell_type": "code",
   "execution_count": null,
   "id": "3b40b789-c729-4185-8bd7-6f9890681f97",
   "metadata": {},
   "outputs": [],
   "source": [
    "Bayes theorem : P(A ∣ B) = P(B ∣ A)P(A) / P(B)"
   ]
  },
  {
   "cell_type": "code",
   "execution_count": null,
   "id": "9ee8320b-65b1-4948-bb08-ba9011fec971",
   "metadata": {},
   "outputs": [],
   "source": [
    "Example: Three urns contain 6 red, 4 black; 4 red, 6 black, and 5 red, 5 black balls respectively. One of the urns is selected at random and a ball is drawn from it. If the ball drawn is red, find the probability that it is drawn "
   ]
  },
  {
   "cell_type": "code",
   "execution_count": null,
   "id": "53da5fdc-0912-4c43-9565-78c9d8ef409c",
   "metadata": {},
   "outputs": [],
   "source": [
    "Solution: Let E1, E2, E3, and A be the events defined as follows:\n",
    "\n",
    "E1 = urn first is chosen \n",
    "\n",
    "E2 = urn second is chosen\n",
    "\n",
    "E3 = urn third is chosen \n",
    "\n",
    "A = ball drawn is red\n",
    "Since there are three urns and one of the three urns is chosen at random, therefore:\n",
    "\n",
    "P(E1) = P(E2) = P(E3) = ⅓\n",
    "\n",
    "If E1 has already occurred, then urn first has been chosen, containing 6 red and 4 black balls. The probability of drawing a red ball from it is 6/10.\n",
    "\n",
    "So, P(A/E1) = 6/10\n",
    "Similarly, you have P(A/E2) = 4/10 and P(A/E3) = 5/10\n",
    "\n",
    "You are required to find the P(E1/A) i.e., given that the ball drawn is red, what is the probability that it is drawn from the first urn.\n",
    "\n",
    "By Bayes theorem, you have\n",
    "\n",
    "P(E1/A) = P(E1) P(A/E1)P(E1) P(A/E1) + P(E2) P(A/E2) + P(E3) P(A/E3)\n",
    "= 1/3 * 6/10(1/3 * 6/10) + (1/3 * 4/10) + (1/3 * 5/10)\n",
    "\n",
    "= 2/5\n",
    "                                               "
   ]
  },
  {
   "cell_type": "code",
   "execution_count": null,
   "id": "70cf0d3f-12c0-4322-b6ae-996ebad82d62",
   "metadata": {},
   "outputs": [],
   "source": [
    "Ans7."
   ]
  },
  {
   "cell_type": "code",
   "execution_count": null,
   "id": "a982fa4d-7fd1-4abe-9578-0dba9aae2ae0",
   "metadata": {},
   "outputs": [],
   "source": [
    "Confidence Interval = 50 ± 1.96 * (5 / √100)\n",
    "Confidence Interval = 50 ± 1.96 * 0.5\n",
    "Confidence Interval ≈ 50 ± 0.98\n",
    "\n",
    "So, the 95% confidence interval is approximately 49.02 to 50.98."
   ]
  },
  {
   "cell_type": "code",
   "execution_count": null,
   "id": "57ee642b-87c2-4ff3-86e7-d26bf2ecd3d4",
   "metadata": {},
   "outputs": [],
   "source": [
    "Ans8."
   ]
  },
  {
   "cell_type": "code",
   "execution_count": null,
   "id": "0593ef25-79fb-4bff-89b5-fe45def91d19",
   "metadata": {},
   "outputs": [],
   "source": [
    "The margin of error (MOE) in a confidence interval is a measure of the uncertainty or variability associated with estimating a population parameter (like the population mean) based on a sample. It represents the range within which the true population parameter is likely to fall. The margin of error is calculated by multiplying the standard error (which is the standard deviation of the sample divided by the square root of the sample size) by a critical value corresponding to the desired confidence level.\n",
    "\n",
    "In general, a higher confidence level (e.g., 95% instead of 90%) will result in a larger margin of error because you are aiming to capture more possible values within the interval, thus increasing its width.\n",
    "\n",
    "The sample size directly affects the margin of error. A larger sample size leads to a smaller margin of error. This is because as the sample size increases, the variability of the sample mean decreases, leading to a more accurate estimate of the population parameter. Mathematically, this is reflected in the denominator of the formula for the margin of error (standard error), which includes the square root of the sample size. A larger sample size reduces this value, thus reducing the overall margin of error.\n",
    "\n",
    "Here's an example to illustrate the impact of sample size on the margin of error:\n",
    "\n",
    "Let's say you want to estimate the average income of a certain city's population. You decide to collect data from two different sample sizes: 100 and 1000 individuals. You use a 95% confidence level for both cases.\n",
    "\n",
    "Scenario 1: Sample Size = 100\n",
    "\n",
    "Standard Deviation (σ) = $5000\n",
    "Sample Size (n) = 100\n",
    "Critical Value (for 95% confidence level) ≈ 1.96\n",
    "Margin of Error (MOE) = 1.96 * (σ / √n) = 1.96 * ($5000 / √100) = $980\n",
    "\n",
    "Confidence Interval = Sample Mean ± MOE = Sample Mean ± $980\n",
    "\n",
    "Scenario 2: Sample Size = 1000\n",
    "\n",
    "Standard Deviation (σ) = $5000\n",
    "Sample Size (n) = 1000\n",
    "Critical Value (for 95% confidence level) ≈ 1.96\n",
    "Margin of Error (MOE) = 1.96 * (σ / √n) = 1.96 * ($5000 / √1000) = $309.80\n",
    "\n",
    "Confidence Interval = Sample Mean ± MOE = Sample Mean ± $309.80\n",
    "\n",
    "In this example, you can see that with a larger sample size (1000), the margin of error is significantly smaller compared to the smaller sample size (100). This indicates that the confidence interval for the larger sample size will be narrower and more accurate in representing the true population parameter.\n",
    "\n",
    "\n",
    "\n",
    "\n",
    "\n",
    "\n"
   ]
  },
  {
   "cell_type": "code",
   "execution_count": null,
   "id": "7be80e9b-9f0e-40ae-a201-8dcbeb0c10ee",
   "metadata": {},
   "outputs": [],
   "source": [
    "Ans9."
   ]
  },
  {
   "cell_type": "code",
   "execution_count": null,
   "id": "be73b19a-a59a-4a15-a182-bbd99c875b60",
   "metadata": {},
   "outputs": [],
   "source": [
    "The z-score (also known as the standard score) measures how many standard deviations a data point is away from the mean of the population. It is calculated using the formula:\n",
    "\n",
    "z = (x - μ) / σ\n",
    "\n",
    "Where:\n",
    "\n",
    "x is the value of the data point (75 in this case)\n",
    "μ is the population mean (70 in this case)\n",
    "σ is the population standard deviation (5 in this case)\n",
    "Let's plug in the values and calculate the z-score:\n",
    "\n",
    "z = (75 - 70) / 5\n",
    "z = 5 / 5\n",
    "z = 1\n",
    "\n",
    "The z-score for the data point with a value of 75, a population mean of 70, and a population standard deviation of 5 is 1.\n",
    "\n",
    "Interpretation:\n",
    "A z-score of 1 means that the data point (75) is exactly 1 standard deviation above the population mean (70). In other words, it's slightly higher than the average value of the population, and this difference is quantified in terms of standard deviations. Z-scores allow you to compare and understand the relative position of data points within a distribution, regardless of the original units of measurement. Positive z-scores indicate values above the mean, while negative z-scores indicate values below the mean.\n",
    "\n",
    "\n",
    "\n",
    "\n",
    "\n"
   ]
  },
  {
   "cell_type": "code",
   "execution_count": null,
   "id": "5549aef3-a532-43b9-a7c6-26b609e81ff2",
   "metadata": {},
   "outputs": [],
   "source": [
    "Ans10."
   ]
  },
  {
   "cell_type": "code",
   "execution_count": null,
   "id": "636f00af-f860-474a-a9c3-6dcf8b8effc6",
   "metadata": {},
   "outputs": [],
   "source": [
    "To conduct a hypothesis test to determine if the new weight loss drug is significantly effective, we need to set up our null and alternative hypotheses and then perform a t-test. The null hypothesis (H0) typically states that there is no effect or no significant difference, while the alternative hypothesis (Ha) states that there is a significant effect or difference.\n",
    "\n",
    "In this case:\n",
    "\n",
    "Null Hypothesis (H0): The new weight loss drug is not significantly effective. μ = μ0 (where μ0 is the population mean weight loss with the drug)\n",
    "Alternative Hypothesis (Ha): The new weight loss drug is significantly effective. μ ≠ μ0\n",
    "Since we have a sample size of 50 and are testing the effectiveness of the drug, we'll use a t-test. The formula for the t-statistic is given by:\n",
    "\n",
    "t = (x̄ - μ0) / (s / √n)\n",
    "\n",
    "Where:\n",
    "\n",
    "x̄ is the sample mean weight loss (6 pounds)\n",
    "μ0 is the hypothesized population mean weight loss\n",
    "s is the sample standard deviation (2.5 pounds)\n",
    "n is the sample size (50)\n",
    "We're conducting a two-tailed test because we're interested in whether the drug is significantly effective in either direction. Given that the confidence level is 95%, the alpha level (α) is 0.05 (split between both tails).\n",
    "\n",
    "Now, let's perform the calculations:\n",
    "\n",
    "t = (6 - μ0) / (2.5 / √50)\n",
    "\n",
    "At a 95% confidence level, the critical t-value for a two-tailed test with degrees of freedom (df) equal to n - 1 = 49 can be found using a t-table or a statistical calculator. For a t-distribution with df = 49, the critical t-value is approximately ±2.0096.\n",
    "\n",
    "Now, we can compare the calculated t-value with the critical t-value to make a decision:\n",
    "\n",
    "If the calculated t-value is greater than the critical t-value, we reject the null hypothesis (H0) and conclude that the drug is significantly effective.\n",
    "If the calculated t-value is less than the negative of the critical t-value, we also reject the null hypothesis (H0) and conclude that the drug is significantly effective.\n",
    "If the calculated t-value is between the negative and positive critical t-values, we fail to reject the null hypothesis (H0).\n",
    "Please note that for a more precise calculation, you'll need to plug in the actual values into the t-formula and compare the calculated t-value with the critical t-value."
   ]
  },
  {
   "cell_type": "code",
   "execution_count": null,
   "id": "867e9bb6-6a9c-4076-b3a5-fb4e7833bc9c",
   "metadata": {},
   "outputs": [],
   "source": [
    "Ans11."
   ]
  },
  {
   "cell_type": "code",
   "execution_count": null,
   "id": "476e6573-db1d-4a9b-8b55-bd183050688e",
   "metadata": {},
   "outputs": [],
   "source": [
    "To calculate the 95% confidence interval for the true proportion of people who are satisfied with their job, you can use the following formula:\n",
    "\n",
    "Confidence Interval = Sample Proportion ± Z * Standard Error\n",
    "\n",
    "Where:\n",
    "\n",
    "Sample Proportion (p̂) = 65% = 0.65 (decimal)\n",
    "Z = Z-score for the desired confidence level (95% confidence level corresponds to a Z-score of approximately 1.96)\n",
    "Standard Error = √((p̂ * (1 - p̂)) / n), where n is the sample size (500 in this case)\n",
    "Let's plug in the values and calculate the confidence interval:\n",
    "\n",
    "Sample Proportion (p̂) = 0.65\n",
    "Sample Size (n) = 500\n",
    "Z-score (Z) = 1.96 (for a 95% confidence level)\n",
    "\n",
    "Standard Error = √((0.65 * (1 - 0.65)) / 500)\n",
    "Standard Error ≈ 0.0248\n",
    "\n",
    "Confidence Interval = 0.65 ± 1.96 * 0.0248\n",
    "Confidence Interval ≈ (0.6014, 0.6986)\n",
    "\n",
    "So, the 95% confidence interval for the true proportion of people who are satisfied with their job is approximately 0.6014 to 0.6986, or 60.14% to 69.86%. This means we are 95% confident that the true proportion falls within this interval based on the given sample data."
   ]
  },
  {
   "cell_type": "code",
   "execution_count": null,
   "id": "6e48c3cb-ab26-4179-b93e-56db9ac4b450",
   "metadata": {},
   "outputs": [],
   "source": [
    "Ans12."
   ]
  },
  {
   "cell_type": "code",
   "execution_count": null,
   "id": "dd13e634-ee39-4baf-8cd0-d2b0650ed63f",
   "metadata": {},
   "outputs": [],
   "source": [
    "To conduct a hypothesis test to determine if the two teaching methods have a significant difference in student performance using a t-test, you can follow these steps:\n",
    "\n",
    "Step 1: Formulate Hypotheses:\n",
    "\n",
    "Null Hypothesis (H0): There is no significant difference in student performance between the two teaching methods. μA - μB = 0.\n",
    "Alternative Hypothesis (H1): There is a significant difference in student performance between the two teaching methods. μA - μB ≠ 0.\n",
    "Where μA is the mean score for teaching method A, and μB is the mean score for teaching method B.\n",
    "\n",
    "Step 2: Choose a Significance Level:\n",
    "You've mentioned a significance level of 0.01, which means you'll be using a 99% confidence level.\n",
    "\n",
    "Step 3: Calculate the Test Statistic:\n",
    "You'll use the t-test formula to calculate the test statistic:\n",
    "Step 4: Determine Degrees of Freedom:\n",
    "Degrees of freedom (\n",
    "�\n",
    "�\n",
    "df) = \n",
    "2\n",
    "�\n",
    "−\n",
    "2\n",
    "2n−2 (for independent samples)\n",
    "\n",
    "Step 5: Find Critical Value:\n",
    "At a significance level of 0.01 and \n",
    "�\n",
    "�\n",
    "df degrees of freedom, you can find the critical t-value using a t-distribution table or a statistical calculator.\n",
    "\n",
    "Step 6: Compare Test Statistic and Critical Value:\n",
    "If the absolute value of the calculated t-test statistic is greater than the critical t-value, you can reject the null hypothesis in favor of the alternative hypothesis.\n",
    "\n",
    "Keep in mind that in practice, you need actual sample sizes to perform the calculations accurately. Also, make sure to verify the assumptions of the t-test, such as the normality of the data and the equality of variances between the two samples."
   ]
  },
  {
   "cell_type": "code",
   "execution_count": null,
   "id": "b540436e-0887-410a-bf99-a16e00627653",
   "metadata": {},
   "outputs": [],
   "source": [
    "Ans13."
   ]
  },
  {
   "cell_type": "code",
   "execution_count": null,
   "id": "8a93368a-c8ce-4a24-a3dd-e5349b075006",
   "metadata": {},
   "outputs": [],
   "source": [
    "Given:\n",
    "Population Mean (μ) = 60\n",
    "Sample Mean (x̄) = 65\n",
    "Sample Size (n) = 50\n",
    "Standard Deviation of the Population (σ) = 8\n",
    "Degrees of Freedom = n - 1 = 50 - 1 = 49\n",
    "Critical Value (z) = 1.645\n",
    "\n",
    "Now, plug these values into the formula:\n",
    "\n",
    "Confidence Interval = 65 ± 1.645 * (8 / √50)\n",
    "\n",
    "Calculating the standard error (SE) of the sample mean:\n",
    "SE = σ / √n\n",
    "SE = 8 / √50 ≈ 1.131\n",
    "\n",
    "Confidence Interval = 65 ± 1.645 * 1.131 ≈ 65 ± 1.861\n",
    "\n",
    "So, the 90% confidence interval for the true population mean is approximately (63.14, 66.86). This means that we are 90% confident that the true population mean falls within this interval based on the given sample data."
   ]
  },
  {
   "cell_type": "code",
   "execution_count": null,
   "id": "7df7caa0-acd9-4d98-8e32-079d25ba635b",
   "metadata": {},
   "outputs": [],
   "source": [
    "Ans14."
   ]
  },
  {
   "cell_type": "code",
   "execution_count": null,
   "id": "667cd198-ac89-4f2b-b79e-06e0eea2978c",
   "metadata": {},
   "outputs": [],
   "source": []
  },
  {
   "cell_type": "code",
   "execution_count": null,
   "id": "66543847-1a43-42e2-beb4-56000a5afb92",
   "metadata": {},
   "outputs": [],
   "source": []
  }
 ],
 "metadata": {
  "kernelspec": {
   "display_name": "Python 3 (ipykernel)",
   "language": "python",
   "name": "python3"
  },
  "language_info": {
   "codemirror_mode": {
    "name": "ipython",
    "version": 3
   },
   "file_extension": ".py",
   "mimetype": "text/x-python",
   "name": "python",
   "nbconvert_exporter": "python",
   "pygments_lexer": "ipython3",
   "version": "3.10.6"
  }
 },
 "nbformat": 4,
 "nbformat_minor": 5
}
