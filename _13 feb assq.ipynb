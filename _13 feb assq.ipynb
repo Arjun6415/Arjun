{
 "cells": [
  {
   "cell_type": "code",
   "execution_count": null,
   "id": "0aee5dbf-171d-402f-ba6b-ba552e511d98",
   "metadata": {},
   "outputs": [],
   "source": [
    "Ans1."
   ]
  },
  {
   "cell_type": "code",
   "execution_count": null,
   "id": "f8f6122c-7293-45a1-9782-ffa3288df550",
   "metadata": {},
   "outputs": [],
   "source": [
    "In python,the built-in'Exception'class is the base class for all exceptions. when we create a custom exception,we usually want it to behave like a standard exception and be compatible with the existing exception handling mechanism in python.To achieve this,we need to inherit our custom exception class from the'exception' class.\n",
    "    \n",
    "    By inheriting from the 'exception'class our custom exception inherits all the functionality of base class,such as the ability to print a traceback,get a message string,and interact with other exceptions.This allows us to use our custom exception in the same way as the built-in exceptions,with the same 'try-except'block syntax.\n",
    "    \n",
    "    in addition,by inheriting from the'Exception' class,we can make use of the built-in exception hierarchy in python.This means that our custom exception"
   ]
  },
  {
   "cell_type": "code",
   "execution_count": null,
   "id": "a4c4dbc7-481e-4c98-b2de-26ba84c29194",
   "metadata": {},
   "outputs": [],
   "source": [
    "Ans2."
   ]
  },
  {
   "cell_type": "code",
   "execution_count": null,
   "id": "6724632c-ba74-43a2-baae-63e423d40fd7",
   "metadata": {},
   "outputs": [],
   "source": [
    "import sys\n",
    "    \n",
    "    def print_exception_hierarchy(exc):\n",
    "        print(type(exc))\n",
    "        for subclass in exc.__subclasses__():\n",
    "            print_exception_hierarchy(subclass)\n",
    "            \n",
    "    print_exception_hierarchy(BaseException)"
   ]
  },
  {
   "cell_type": "code",
   "execution_count": null,
   "id": "7ba0f8c1-8d30-4e75-b24c-afe8a4a3572b",
   "metadata": {},
   "outputs": [],
   "source": [
    "Ans3."
   ]
  },
  {
   "cell_type": "code",
   "execution_count": null,
   "id": "82d40ca7-646a-41fe-9be0-5ec77594db55",
   "metadata": {},
   "outputs": [],
   "source": [
    "The 'ArithmeticError' class is a built-in exception class in python that serves as a base class for all exceptions that occure during arithmetic operations.It is a subclass of the 'exception'class and itself the parent class for several more specific arithmetic-related exception classes.\n",
    "    \n",
    "    1.\"ZeroDivisionError\":\n",
    "          This exception is raised when we try to divide a number by zero.\n",
    "        \n",
    "        for example:\n",
    "                     a = 10\n",
    "                     b = 0\n",
    "            try:\n",
    "                     c = a / b\n",
    "            except ZeroDivisionError:\n",
    "                    print(\"Error cannot divide by zero\")\n",
    "                    \n",
    "    2.\"OverflowError\":\n",
    "           This exception is raised when a calculation exceeds the maximum representable value for a numerical type\n",
    "        \n",
    "        for example:\n",
    "                     import sys \n",
    "                     a = sys.maxsize\n",
    "                    try:\n",
    "                        b = a * a\n",
    "                    except OverflowError:\n",
    "                           print(\"Error:Result too large to represents as a number\")\n",
    "                            \n",
    "overall,The \"ArithmaticError\"class and its derived exceptions are useful for handling errors that occurs during arithmatic operations,such as division by zero,integer overflow,or other numerical errors.                        \n",
    "                "
   ]
  },
  {
   "cell_type": "code",
   "execution_count": null,
   "id": "04a19b8c-1abf-4e94-b672-057d57f0ffc2",
   "metadata": {},
   "outputs": [],
   "source": [
    "Ans4."
   ]
  },
  {
   "cell_type": "code",
   "execution_count": null,
   "id": "616323f4-bc51-4694-a4ce-9affd4aa3602",
   "metadata": {},
   "outputs": [],
   "source": [
    "The \"LookupError\" class is a built-in exception class in python that serves as a base class for all exceptions that occure when a key or index not found during a lookup operation.It is a subclass of the \"Exception\"class and its itself the parent class for several more specific lookup-related exception classes.\n",
    "    \n",
    "    1.KeyError- This exception is raised when a dictionary key is not found in the dictionary.\n",
    "    \n",
    "     for example :\n",
    "                   my_dict = {'a': 1, 'b' : 2 ,'c' : 3}\n",
    "                try:\n",
    "                    value = my_dict['d']\n",
    "                except KeyError:\n",
    "                      print(\"Error: Key 'd' not found in dictionary\")\n",
    "                        \n",
    "    2.IndexError: This exception is raised when we try to access an index that is out of range for alist or other sequences.\n",
    "             \n",
    "        for example:\n",
    "                      my_list = [1,2,3]\n",
    "                        try:\n",
    "                             value = my_list[3]\n",
    "                        except IndexError:\n",
    "                            print(\"Error : Index 3 is out of range for list\")\n",
    "                            "
   ]
  },
  {
   "cell_type": "code",
   "execution_count": null,
   "id": "ca75a5a3-e89f-44c9-b3fc-c1d0b791d1a1",
   "metadata": {},
   "outputs": [],
   "source": [
    "Ans5."
   ]
  },
  {
   "cell_type": "code",
   "execution_count": null,
   "id": "c24c8f5e-8007-4ae8-9e18-371160b6d2c9",
   "metadata": {},
   "outputs": [],
   "source": [
    "\"ImportError\" is a built-in Exception class in python that is raised when an imported module,package,or name cannot be found or loaded.This can occure due to various reasons such as misspelled module name,missing dependencies or incorrect python path settings.\n",
    "    for example- \"ModuleNotFoundFrror\" is a more specific type of \"ImportError\" that was introduced in python 3.6.\n",
    "    \n",
    "    #python 3.6 and later\n",
    "    import foo #raises ModuleNotFoundError: No module named 'foo'\n",
    "    \n",
    "    #python 3.5 and earlier\n",
    "    import foo #raises ImportError: No module named 'foo'\n",
    "    \n",
    "    \"ModuleNotFoundError\" some other types of \"ImportError\"that we may encounter include:\n",
    "        \n",
    "        1.\"ImportError:cannot import name\"\n",
    "        2.\"ImportError:DLL load failed\""
   ]
  },
  {
   "cell_type": "code",
   "execution_count": null,
   "id": "dda78bca-f0a5-4fd0-b778-28c249bac790",
   "metadata": {},
   "outputs": [],
   "source": [
    "Ans6."
   ]
  },
  {
   "cell_type": "code",
   "execution_count": null,
   "id": "429ca32f-f923-4ad8-8f7c-98e798dfa9c2",
   "metadata": {},
   "outputs": [],
   "source": []
  }
 ],
 "metadata": {
  "kernelspec": {
   "display_name": "Python 3 (ipykernel)",
   "language": "python",
   "name": "python3"
  },
  "language_info": {
   "codemirror_mode": {
    "name": "ipython",
    "version": 3
   },
   "file_extension": ".py",
   "mimetype": "text/x-python",
   "name": "python",
   "nbconvert_exporter": "python",
   "pygments_lexer": "ipython3",
   "version": "3.10.6"
  }
 },
 "nbformat": 4,
 "nbformat_minor": 5
}
