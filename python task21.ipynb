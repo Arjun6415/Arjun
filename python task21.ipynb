{
 "cells": [
  {
   "cell_type": "code",
   "execution_count": null,
   "id": "4d5878ca-c68a-4fd0-a97e-2fe10aa2c820",
   "metadata": {},
   "outputs": [],
   "source": [
    "Ans1."
   ]
  },
  {
   "cell_type": "code",
   "execution_count": 1,
   "id": "7fe2df66-fd2f-4a31-8f0d-75155af07b90",
   "metadata": {},
   "outputs": [
    {
     "name": "stdout",
     "output_type": "stream",
     "text": [
      "invalid password\n"
     ]
    }
   ],
   "source": [
    "def check_pswd(pswd):\n",
    "    upper_count=0\n",
    "    lower_count=0\n",
    "    number_count=0\n",
    "    special_count=0\n",
    "    special_char=\"!@#$%^&*\"\n",
    "    \n",
    "    for i in pswd:\n",
    "        if i==i.upper():\n",
    "            upper_count=upper_count+1\n",
    "        if i==i.lower():\n",
    "            lower_count=lower_count+1\n",
    "        if i==i.isdigit():\n",
    "            number_count=number_count+1\n",
    "        if i in special_char:\n",
    "            special_count=special_count+1\n",
    "        if upper_count>=2 and lower_count>=2 and number_count>=1 and special_count>=3 and len(pswd)==10:\n",
    "            return \"valid password\"\n",
    "        else:\n",
    "            return \"invalid password\"\n",
    "\n",
    "print(check_pswd(\"ABcd1!@#dd\"))"
   ]
  },
  {
   "cell_type": "code",
   "execution_count": null,
   "id": "09ce19c9-8d57-4a66-897b-050a1d5927f8",
   "metadata": {},
   "outputs": [],
   "source": [
    "Ans2."
   ]
  },
  {
   "cell_type": "code",
   "execution_count": 2,
   "id": "63e8f808-ef5e-4273-b37b-51b6344099d5",
   "metadata": {},
   "outputs": [
    {
     "name": "stdout",
     "output_type": "stream",
     "text": [
      "True\n"
     ]
    }
   ],
   "source": [
    "#check if the string starts with a particular letter\n",
    "var = \"Data science course\"\n",
    "filtered = lambda x: x.startswith('D')\n",
    "print(filtered(var))"
   ]
  },
  {
   "cell_type": "code",
   "execution_count": 3,
   "id": "6fcdd9b4-a859-470f-8efc-3a2791997a4a",
   "metadata": {},
   "outputs": [
    {
     "name": "stdout",
     "output_type": "stream",
     "text": [
      "[('grapes', 1000), ('mango', 99), ('orange', 80)]\n"
     ]
    }
   ],
   "source": [
    "# sort list of tuple having their quantity\n",
    "def Sort_Tuple(tup):\n",
    "    tup.sort(key = lambda x: x[0])\n",
    "    return tup\n",
    " \n",
    "tup=[(\"mango\",99),(\"orange\",80), (\"grapes\", 1000)]\n",
    "\n",
    "print(Sort_Tuple(tup))"
   ]
  },
  {
   "cell_type": "code",
   "execution_count": 4,
   "id": "dcf786b2-1891-421a-80ed-a66e265ac592",
   "metadata": {},
   "outputs": [
    {
     "data": {
      "text/plain": [
       "[1, 4, 9, 16, 25, 36, 49, 64, 81, 100]"
      ]
     },
     "execution_count": 4,
     "metadata": {},
     "output_type": "execute_result"
    }
   ],
   "source": [
    "#find the square of number\n",
    "def sqr(x):\n",
    "    return x*x\n",
    " \n",
    "list(map(sqr,range(1,11)))"
   ]
  },
  {
   "cell_type": "code",
   "execution_count": 5,
   "id": "9227684f-0bfd-45fa-89e7-3219bb9a9e62",
   "metadata": {},
   "outputs": [
    {
     "name": "stdout",
     "output_type": "stream",
     "text": [
      "[1.0, 1.2599210498948732, 1.4422495703074083, 1.5874010519681994, 1.7099759466766968, 1.8171205928321397, 1.912931182772389, 2.0, 2.080083823051904, 2.154434690031884]\n"
     ]
    }
   ],
   "source": [
    "#find the cube root of the number\n",
    "c =[1,2,3,4,5,6,7,8,9,10]\n",
    "print(list(map(lambda x : x **(1/3),c)))"
   ]
  },
  {
   "cell_type": "code",
   "execution_count": 6,
   "id": "9ced60fa-7b98-4089-80c7-2f939d86db2b",
   "metadata": {},
   "outputs": [
    {
     "data": {
      "text/plain": [
       "[2, 4, 6, 8, 10]"
      ]
     },
     "execution_count": 6,
     "metadata": {},
     "output_type": "execute_result"
    }
   ],
   "source": [
    "#check if the given number is even\n",
    "l1 =[1,2,3,4,5,6,7,8,9,10]\n",
    "list(filter(lambda x : x %2 ==0,l1))"
   ]
  },
  {
   "cell_type": "code",
   "execution_count": 7,
   "id": "4c6f88ec-3a69-48a1-89c8-5be88103c631",
   "metadata": {},
   "outputs": [
    {
     "data": {
      "text/plain": [
       "[1, 3, 5, 7, 9]"
      ]
     },
     "execution_count": 7,
     "metadata": {},
     "output_type": "execute_result"
    }
   ],
   "source": [
    "#filter the odd number from the given list\n",
    "l2 = [1,2,3,4,5,6,7,8,9,10]\n",
    "\n",
    "list(filter(lambda x : x%2 != 0,l2))"
   ]
  },
  {
   "cell_type": "code",
   "execution_count": 8,
   "id": "cf80e499-2912-46a2-8413-3c70a187a309",
   "metadata": {},
   "outputs": [
    {
     "data": {
      "text/plain": [
       "[-1, -2, -3, -4, -5]"
      ]
     },
     "execution_count": 8,
     "metadata": {},
     "output_type": "execute_result"
    }
   ],
   "source": [
    "l3 = [1,2,3,4,5,6,-1,-2,-3,-4,-5,0]\n",
    "pst = list(filter(lambda x : x > 0,l3))\n",
    "\n",
    "ngt = list(filter(lambda x : x < 0,l3))\n",
    "ngt"
   ]
  },
  {
   "cell_type": "code",
   "execution_count": 9,
   "id": "bcce4d06-9b67-4e25-be98-acbec43ffddc",
   "metadata": {},
   "outputs": [
    {
     "data": {
      "text/plain": [
       "[1, 2, 3, 4, 5, 6]"
      ]
     },
     "execution_count": 9,
     "metadata": {},
     "output_type": "execute_result"
    }
   ],
   "source": [
    "pst"
   ]
  },
  {
   "cell_type": "code",
   "execution_count": null,
   "id": "562eaec7-b141-4be7-8ea1-1fa42a211784",
   "metadata": {},
   "outputs": [],
   "source": []
  }
 ],
 "metadata": {
  "kernelspec": {
   "display_name": "Python 3 (ipykernel)",
   "language": "python",
   "name": "python3"
  },
  "language_info": {
   "codemirror_mode": {
    "name": "ipython",
    "version": 3
   },
   "file_extension": ".py",
   "mimetype": "text/x-python",
   "name": "python",
   "nbconvert_exporter": "python",
   "pygments_lexer": "ipython3",
   "version": "3.10.6"
  }
 },
 "nbformat": 4,
 "nbformat_minor": 5
}
