{
 "cells": [
  {
   "cell_type": "code",
   "execution_count": null,
   "id": "489102a4-7d53-40e9-847c-2250ade461d1",
   "metadata": {},
   "outputs": [],
   "source": [
    "Ans1."
   ]
  },
  {
   "cell_type": "code",
   "execution_count": null,
   "id": "10e17de6-74b9-4bda-9dbc-29fa8cf3bebd",
   "metadata": {},
   "outputs": [],
   "source": [
    "A Probability Density Function (PDF) is a mathematical function used in probability theory and statistics to describe the probability distribution of a continuous random variable. It provides a way to specify the likelihood of the random variable taking on a particular value within a certain range.\n",
    "\n",
    "The PDF, denoted as f(x), is defined such that for any two values a and b (where a ≤ b), the probability that the random variable falls within the interval [a, b] is given by the integral of the PDF over that interval:\n",
    "\n",
    "�\n",
    "(\n",
    "�\n",
    "≤\n",
    "�\n",
    "≤\n",
    "�\n",
    ")\n",
    "=\n",
    "∫\n",
    "�\n",
    "�\n",
    "�\n",
    "(\n",
    "�\n",
    ")\n",
    "�\n",
    "�\n",
    "P(a≤X≤b)=∫ \n",
    "a\n",
    "b\n",
    "​\n",
    " f(x)dx\n",
    "\n",
    "Here, X represents the continuous random variable, and f(x) is the PDF. The PDF has the following properties:\n",
    "\n",
    "Non-negativity: \n",
    "�\n",
    "(\n",
    "�\n",
    ")\n",
    "≥\n",
    "0\n",
    "f(x)≥0 for all values of x.\n",
    "Total Probability: The integral of the PDF over the entire range of possible values equals 1:\n",
    "∫\n",
    "−\n",
    "∞\n",
    "∞\n",
    "�\n",
    "(\n",
    "�\n",
    ")\n",
    "�\n",
    "�\n",
    "=\n",
    "1\n",
    "∫ \n",
    "−∞\n",
    "∞\n",
    "​\n",
    " f(x)dx=1\n",
    "\n",
    "Probability in an Interval: The probability that X falls within a specific interval [a, b] is given by the integral of the PDF over that interval, as mentioned above.\n",
    "\n",
    "The PDF doesn't provide the actual probability of the random variable taking on a specific value (since it's continuous). Instead, it gives the probability density at each point in the range. The probability of X being exactly equal to a single value is zero, i.e., \n",
    "�\n",
    "(\n",
    "�\n",
    "=\n",
    "�\n",
    ")\n",
    "=\n",
    "0\n",
    "P(X=x)=0 for any specific value x.\n",
    "\n",
    "Common probability density functions include the normal distribution, uniform distribution, exponential distribution, and many others, each with its own mathematical form and properties. These functions are used in various applications to model and analyze real-world phenomena where continuous random variables are involved."
   ]
  },
  {
   "cell_type": "code",
   "execution_count": null,
   "id": "57b7f81d-baf0-4332-b2cb-a6c18608409b",
   "metadata": {},
   "outputs": [],
   "source": [
    "Ans2."
   ]
  },
  {
   "cell_type": "code",
   "execution_count": null,
   "id": "5463cad1-ce1b-4630-8f06-dd601c91b36c",
   "metadata": {},
   "outputs": [],
   "source": [
    "Probability distributions are mathematical functions that describe the likelihood of different outcomes in a random experiment or process. There are several types of probability distributions, and they can be categorized into two main classes: discrete probability distributions and continuous probability distributions. Here are some common examples of each:\n",
    "\n",
    "1. Discrete Probability Distributions:\n",
    "Discrete probability distributions are used when the random variable can only take on a countable number of distinct values.\n",
    "\n",
    "a. Bernoulli Distribution: This distribution models a random experiment with two possible outcomes, typically denoted as success (1) and failure (0), with a single parameter p representing the probability of success.\n",
    "\n",
    "b. Binomial Distribution: It describes the number of successes in a fixed number of independent Bernoulli trials, each with the same probability of success (p). It has two parameters, n (the number of trials) and p (the probability of success).\n",
    "\n",
    "c. Poisson Distribution: This distribution models the number of events that occur in a fixed interval of time or space when these events happen with a known average rate (λ).\n",
    "\n",
    "d. Geometric Distribution: It represents the number of Bernoulli trials required until the first success occurs, with a parameter p representing the probability of success on each trial.\n",
    "\n",
    "2. Continuous Probability Distributions:\n",
    "Continuous probability distributions are used when the random variable can take on any value within a continuous range.\n",
    "\n",
    "a. Normal Distribution (Gaussian Distribution): This is one of the most well-known probability distributions and is characterized by its bell-shaped curve. It's used to model a wide range of natural phenomena, and it has two parameters: mean (μ) and standard deviation (σ).\n",
    "\n",
    "b. Exponential Distribution: It models the time between events in a Poisson process, where events occur continuously and independently at a constant average rate (λ).\n",
    "\n",
    "c. Uniform Distribution: In this distribution, all values within a specified range are equally likely. It has two parameters: the minimum (a) and maximum (b) values.\n",
    "\n",
    "d. Log-Normal Distribution: This distribution is used to model data that is positively skewed and often represents quantities that cannot be negative when transformed to a logarithmic scale.\n",
    "\n",
    "e. Cauchy Distribution: This is a heavy-tailed distribution with undefined mean and variance, often used in physics and engineering.\n",
    "\n",
    "f. Gamma Distribution: It is used to model the waiting time until a Poisson process reaches a certain number of events, with two parameters, shape (k) and scale (θ).\n",
    "\n",
    "g. Weibull Distribution: It's often used in reliability engineering to model the distribution of lifetimes or failure times. It has two parameters, shape (c) and scale (λ).\n",
    "\n",
    "These are just a few examples of the many probability distributions used in statistics and probability theory. The choice of distribution depends on the specific characteristics of the data and the nature of the random variable being analyzed in a given problem or experiment."
   ]
  },
  {
   "cell_type": "code",
   "execution_count": null,
   "id": "057170d5-d759-42d1-9aed-f755fd7da200",
   "metadata": {},
   "outputs": [],
   "source": [
    "Ans3."
   ]
  },
  {
   "cell_type": "code",
   "execution_count": 1,
   "id": "bb9560e2-d586-4478-a075-e1b492d23bf5",
   "metadata": {},
   "outputs": [
    {
     "name": "stdout",
     "output_type": "stream",
     "text": [
      "The PDF at x = 1.5 is 0.12951759566589174\n"
     ]
    }
   ],
   "source": [
    "import math\n",
    "\n",
    "def normal_pdf(x, mean, std_dev):\n",
    "    \"\"\"\n",
    "    Calculate the probability density function (PDF) of a normal distribution at a given point x.\n",
    "\n",
    "    Args:\n",
    "        x (float): The point at which to calculate the PDF.\n",
    "        mean (float): The mean (average) of the normal distribution.\n",
    "        std_dev (float): The standard deviation (a measure of spread) of the normal distribution.\n",
    "\n",
    "    Returns:\n",
    "        float: The PDF value at the given point x.\n",
    "    \"\"\"\n",
    "    if std_dev <= 0:\n",
    "        raise ValueError(\"Standard deviation must be greater than 0\")\n",
    "    \n",
    "    exponent = -((x - mean) ** 2) / (2 * (std_dev ** 2))\n",
    "    pdf = (1 / (std_dev * math.sqrt(2 * math.pi))) * math.exp(exponent)\n",
    "    return pdf\n",
    "\n",
    "# Example usage:\n",
    "mean = 0\n",
    "std_dev = 1\n",
    "x = 1.5\n",
    "pdf_value = normal_pdf(x, mean, std_dev)\n",
    "print(f\"The PDF at x = {x} is {pdf_value}\")\n"
   ]
  },
  {
   "cell_type": "code",
   "execution_count": null,
   "id": "429f194a-87e2-417d-ab14-784a19d4788b",
   "metadata": {},
   "outputs": [],
   "source": [
    "Ans4."
   ]
  },
  {
   "cell_type": "code",
   "execution_count": null,
   "id": "353069b5-8d13-42c8-9db0-d154e7c5f9bb",
   "metadata": {},
   "outputs": [],
   "source": [
    "The binomial distribution is a discrete probability distribution that models the number of successes (typically denoted as \"k\") in a fixed number of independent Bernoulli trials (experiments with two possible outcomes: success and failure), where each trial has the same probability of success (typically denoted as \"p\").\n",
    "\n",
    "Properties of the binomial distribution:\n",
    "\n",
    "Discreteness: The binomial distribution is defined for discrete random variables, meaning that the possible values are whole numbers (non-negative integers).\n",
    "\n",
    "Fixed Number of Trials (n): The distribution is based on a fixed number of independent trials or experiments, denoted as \"n.\"\n",
    "\n",
    "Two Possible Outcomes: Each trial has two possible outcomes, typically referred to as \"success\" and \"failure.\"\n",
    "\n",
    "Constant Probability of Success (p): The probability of success (e.g., the probability of getting a \"heads\" in a coin toss) remains constant for all trials.\n",
    "\n",
    "Independence: Each trial is assumed to be independent of the others, meaning the outcome of one trial does not affect the outcome of any other trial.\n",
    "\n",
    "Probability Mass Function: The probability mass function (PMF) of the binomial distribution is given by the formula:\n",
    "\n",
    "P(X = k) = C(n, k) * p^k * (1 - p)^(n - k)\n",
    "\n",
    "Where:\n",
    "\n",
    "P(X = k) is the probability of getting exactly k successes.\n",
    "C(n, k) is the binomial coefficient, also denoted as \"n choose k,\" which is the number of ways to choose k successes out of n trials.\n",
    "p is the probability of success in a single trial.\n",
    "(1 - p) is the probability of failure in a single trial.\n",
    "n is the total number of trials.\n",
    "Examples of events where the binomial distribution can be applied:\n",
    "\n",
    "Coin Flips: When you flip a fair coin (e.g., a coin with a 50% chance of heads and a 50% chance of tails) multiple times, you can model the number of heads obtained in a fixed number of flips using a binomial distribution.\n",
    "\n",
    "Quality Control: In a manufacturing process, you can use the binomial distribution to model the number of defective items in a random sample from a production batch, assuming a constant probability of defect for each item.\n",
    "\n",
    "In both of these examples, you are interested in counting the number of successes (heads in coin flips, defective items in quality control) in a fixed number of independent trials (coin flips, sampling items), where each trial has the same probability of success (probability of getting heads, probability of a defective item)."
   ]
  },
  {
   "cell_type": "code",
   "execution_count": null,
   "id": "d4b258af-b10c-4052-9b30-cbf719b70c34",
   "metadata": {},
   "outputs": [],
   "source": [
    "Ans5."
   ]
  },
  {
   "cell_type": "code",
   "execution_count": 2,
   "id": "61e94cd0-6a40-42b9-9dd4-188baed45a56",
   "metadata": {},
   "outputs": [
    {
     "data": {
      "image/png": "[encoded data removed]",
      "text/plain": [
       "<Figure size 640x480 with 1 Axes>"
      ]
     },
     "metadata": {},
     "output_type": "display_data"
    }
   ],
   "source": [
    "import numpy as np\n",
    "import matplotlib.pyplot as plt\n",
    "\n",
    "# Parameters\n",
    "sample_size = 1000  # Size of the random sample\n",
    "probability_of_success = 0.4\n",
    "\n",
    "# Generate the random sample from the binomial distribution\n",
    "random_sample = np.random.binomial(1, probability_of_success, sample_size)\n",
    "\n",
    "# Plot a histogram of the results\n",
    "plt.hist(random_sample, bins=2, edgecolor='k', alpha=0.7)\n",
    "plt.xlabel('Number of Successes')\n",
    "plt.ylabel('Frequency')\n",
    "plt.title(f'Binomial Distribution (n=1, p={probability_of_success}) Random Sample')\n",
    "plt.xticks([0, 1], ['Failure', 'Success'])\n",
    "plt.grid(axis='y', linestyle='--', alpha=0.7)\n",
    "plt.show()\n"
   ]
  },
  {
   "cell_type": "code",
   "execution_count": null,
   "id": "8a719045-8803-44ae-8bb9-96768f54ff39",
   "metadata": {},
   "outputs": [],
   "source": [
    "Ans6."
   ]
  },
  {
   "cell_type": "code",
   "execution_count": 3,
   "id": "b7360c13-8d91-4592-a7a1-3e2ca349e85a",
   "metadata": {},
   "outputs": [
    {
     "name": "stdout",
     "output_type": "stream",
     "text": [
      "The CDF at k = 2 is 0.42319008112684353\n"
     ]
    }
   ],
   "source": [
    "import math\n",
    "\n",
    "def poisson_cdf(k, mean):\n",
    "    \"\"\"\n",
    "    Calculate the cumulative distribution function (CDF) of a Poisson distribution at a given point k.\n",
    "\n",
    "    Args:\n",
    "        k (int): The point at which to calculate the CDF.\n",
    "        mean (float): The mean of the Poisson distribution.\n",
    "\n",
    "    Returns:\n",
    "        float: The CDF value at the given point k.\n",
    "    \"\"\"\n",
    "    if k < 0 or mean < 0:\n",
    "        raise ValueError(\"Both k and mean must be non-negative\")\n",
    "\n",
    "    cdf = 0\n",
    "    for i in range(k + 1):\n",
    "        cdf += math.exp(-mean) * (mean ** i) / math.factorial(i)\n",
    "    \n",
    "    return cdf\n",
    "\n",
    "# Example usage:\n",
    "mean = 3.0\n",
    "k = 2\n",
    "cdf_value = poisson_cdf(k, mean)\n",
    "print(f\"The CDF at k = {k} is {cdf_value}\")\n"
   ]
  },
  {
   "cell_type": "code",
   "execution_count": null,
   "id": "900427c7-5e71-444a-9641-333c99b223db",
   "metadata": {},
   "outputs": [],
   "source": [
    "Ans7."
   ]
  },
  {
   "cell_type": "code",
   "execution_count": null,
   "id": "9e820d08-6d14-456b-bfdf-2f5bc3d64e6e",
   "metadata": {},
   "outputs": [],
   "source": [
    "The binomial distribution and the Poisson distribution are both probability distributions used in statistics, but they are different in terms of their assumptions, characteristics, and applications.\n",
    "\n",
    "Assumptions:\n",
    "\n",
    "Binomial Distribution: The binomial distribution is used when you have a fixed number of independent trials (repeated experiments), each with only two possible outcomes: success and failure. These trials are assumed to be independent and have the same probability of success (p) on each trial.\n",
    "Poisson Distribution: The Poisson distribution, on the other hand, is used when you are interested in the number of events (such as arrivals, occurrences, or incidents) that happen in a fixed interval of time or space. It is often used for rare events where the average rate of occurrence (λ, lambda) is known.\n",
    "Number of Possible Outcomes:\n",
    "\n",
    "Binomial Distribution: In the binomial distribution, there are only two possible outcomes (success and failure) for each trial.\n",
    "Poisson Distribution: The Poisson distribution models the count of events that can theoretically be infinite (although it is typically used for rare events).\n",
    "Shape and Parameters:\n",
    "\n",
    "Binomial Distribution: The binomial distribution is parameterized by two values: the number of trials (n) and the probability of success (p) on each trial.\n",
    "Poisson Distribution: The Poisson distribution is parameterized by a single value, the average rate of occurrence (λ).\n",
    "Probability Mass Function:\n",
    "\n",
    "Binomial Distribution: The probability mass function (PMF) of the binomial distribution gives the probability of getting exactly k successes in n trials. It is described by the binomial coefficient and the success probability.\n",
    "Poisson Distribution: The PMF of the Poisson distribution gives the probability of observing k events in a fixed interval of time or space. It is described by the Poisson formula involving the average rate of occurrence.\n",
    "Applicability:\n",
    "\n",
    "Binomial Distribution: Common applications of the binomial distribution include modeling outcomes of coin flips, pass/fail experiments, and situations where each trial can be categorized as success or failure.\n",
    "Poisson Distribution: The Poisson distribution is used in scenarios like modeling the number of customer arrivals at a store in a given time period, the number of emails received in an hour, or the number of accidents at an intersection in a day.\n",
    "In summary, the key difference lies in the nature of the data being modeled. The binomial distribution is used for discrete, binary outcomes from a fixed number of trials, while the Poisson distribution is used for modeling the count of rare events in a fixed interval. The choice between the two depends on the specific characteristics of the data and the underlying process being analyzed."
   ]
  },
  {
   "cell_type": "code",
   "execution_count": null,
   "id": "305dcfde-2c32-4a20-b1ee-166bd29b48e8",
   "metadata": {},
   "outputs": [],
   "source": [
    "Ans8."
   ]
  },
  {
   "cell_type": "code",
   "execution_count": 4,
   "id": "2f714e99-4890-4c3e-9a29-b8ce5d43517d",
   "metadata": {},
   "outputs": [
    {
     "name": "stdout",
     "output_type": "stream",
     "text": [
      "Sample Mean: 5.037\n",
      "Sample Variance: 4.657631000000001\n"
     ]
    }
   ],
   "source": [
    "import numpy as np\n",
    "\n",
    "# Parameters\n",
    "mean = 5\n",
    "sample_size = 1000\n",
    "\n",
    "# Generate a random sample from the Poisson distribution\n",
    "sample = np.random.poisson(mean, sample_size)\n",
    "\n",
    "# Calculate the sample mean and variance\n",
    "sample_mean = np.mean(sample)\n",
    "sample_variance = np.var(sample)\n",
    "\n",
    "print(\"Sample Mean:\", sample_mean)\n",
    "print(\"Sample Variance:\", sample_variance)\n"
   ]
  },
  {
   "cell_type": "code",
   "execution_count": null,
   "id": "693a2201-bf1f-419d-ace4-fd8ef0bf8fd2",
   "metadata": {},
   "outputs": [],
   "source": [
    "Ans9."
   ]
  },
  {
   "cell_type": "code",
   "execution_count": null,
   "id": "e21423b3-362b-428a-a475-01c3403462cc",
   "metadata": {},
   "outputs": [],
   "source": [
    "The relationship between mean (expected value) and variance in both the Binomial distribution and the Poisson distribution is as follows:\n",
    "\n",
    "Binomial Distribution:\n",
    "In the Binomial distribution, which models the number of successes in a fixed number of independent Bernoulli trials, the mean (μ) and variance (σ^2) are related by the following formula:\n",
    "\n",
    "�\n",
    "=\n",
    "�\n",
    "⋅\n",
    "�\n",
    "μ=n⋅p\n",
    "�\n",
    "2\n",
    "=\n",
    "�\n",
    "⋅\n",
    "�\n",
    "⋅\n",
    "(\n",
    "1\n",
    "−\n",
    "�\n",
    ")\n",
    "σ \n",
    "2\n",
    " =n⋅p⋅(1−p)\n",
    "\n",
    "Where:\n",
    "\n",
    "�\n",
    "μ is the mean of the Binomial distribution.\n",
    "�\n",
    "2\n",
    "σ \n",
    "2\n",
    "  is the variance of the Binomial distribution.\n",
    "�\n",
    "n is the number of trials.\n",
    "�\n",
    "p is the probability of success on each trial.\n",
    "As you can see, the variance of the Binomial distribution is a function of both the number of trials (\n",
    "�\n",
    "n) and the probability of success (\n",
    "�\n",
    "p). It increases as either \n",
    "�\n",
    "n or \n",
    "�\n",
    "p increases.\n",
    "\n",
    "Poisson Distribution:\n",
    "In the Poisson distribution, which models the number of rare events occurring in a fixed interval of time or space, the mean (μ) and variance (σ^2) are related as follows:\n",
    "\n",
    "�\n",
    "=\n",
    "�\n",
    "μ=λ\n",
    "�\n",
    "2\n",
    "=\n",
    "�\n",
    "σ \n",
    "2\n",
    " =λ\n",
    "\n",
    "Where:\n",
    "\n",
    "�\n",
    "μ is the mean of the Poisson distribution.\n",
    "�\n",
    "2\n",
    "σ \n",
    "2\n",
    "  is the variance of the Poisson distribution.\n",
    "�\n",
    "λ (lambda) is the average rate of occurrence of events in the given interval.\n",
    "In the Poisson distribution, the variance is equal to the mean. This is a unique property of the Poisson distribution, and it indicates that the spread (variability) of the distribution is directly proportional to the mean rate of occurrence (\n",
    "�\n",
    "λ). As \n",
    "�\n",
    "λ increases, both the mean and variance increase proportionally, reflecting an increase in the occurrence of events.\n",
    "\n",
    "In summary, the relationship between mean and variance in the Binomial distribution is more complex and depends on both the number of trials and the probability of success, while in the Poisson distribution, the mean and variance are equal and solely determined by the average rate of occurrence (\n",
    "�\n",
    "λ)."
   ]
  },
  {
   "cell_type": "code",
   "execution_count": null,
   "id": "62e4b4fe-19cd-4309-b196-f38f4b57578f",
   "metadata": {},
   "outputs": [],
   "source": [
    "Ans10."
   ]
  },
  {
   "cell_type": "code",
   "execution_count": null,
   "id": "899ec972-636a-4519-a23c-ae6f4053c37a",
   "metadata": {},
   "outputs": [],
   "source": []
  },
  {
   "cell_type": "code",
   "execution_count": null,
   "id": "a159f822-8311-47e8-ac36-ac3e70f0cdd1",
   "metadata": {},
   "outputs": [],
   "source": []
  }
 ],
 "metadata": {
  "kernelspec": {
   "display_name": "Python 3 (ipykernel)",
   "language": "python",
   "name": "python3"
  },
  "language_info": {
   "codemirror_mode": {
    "name": "ipython",
    "version": 3
   },
   "file_extension": ".py",
   "mimetype": "text/x-python",
   "name": "python",
   "nbconvert_exporter": "python",
   "pygments_lexer": "ipython3",
   "version": "3.10.6"
  }
 },
 "nbformat": 4,
 "nbformat_minor": 5
}
