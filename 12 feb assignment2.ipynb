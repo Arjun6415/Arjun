{
 "cells": [
  {
   "cell_type": "code",
   "execution_count": null,
   "id": "6a22519d-ffc8-4973-8b6c-e69fd1de0b91",
   "metadata": {},
   "outputs": [],
   "source": [
    "Ans1."
   ]
  },
  {
   "cell_type": "code",
   "execution_count": null,
   "id": "c055654a-c61f-49c1-a6c3-18023602a2d2",
   "metadata": {},
   "outputs": [],
   "source": [
    "An exception is an event, which occurs during the execution of a program that disrupts the normal flow of the program's instructions.\n",
    "\n",
    "Error in Python can be of two types i.e. Syntax errors and Exceptions. Errors are the problems in a program due to which the program will stop the execution. On the other hand, exceptions are raised when some internal events occur which changes the normal flow of the program.\n",
    "\n",
    "Syntax Error: As the name suggests this error is caused by the wrong syntax in the code. It leads to the termination of the program. Exceptions: Exceptions are raised when the program is syntactically correct, but the code resulted in an error. This error does not stop the execution of the program, however, it changes the normal flow of the program."
   ]
  },
  {
   "cell_type": "code",
   "execution_count": null,
   "id": "612314cd-9034-473c-b64e-44ca4da87935",
   "metadata": {},
   "outputs": [],
   "source": [
    "Ans2."
   ]
  },
  {
   "cell_type": "code",
   "execution_count": null,
   "id": "c29fcad8-e870-452f-a586-8433edc3f0c7",
   "metadata": {},
   "outputs": [],
   "source": [
    "when we will not handled the the exception cast our program is crashed.\n",
    "\n",
    "numerator = 10\n",
    "denominator = 0\n",
    "\n",
    "result = numerator/denominator\n",
    "\n",
    "print(result)"
   ]
  },
  {
   "cell_type": "code",
   "execution_count": null,
   "id": "cbac3c77-6c0e-491d-bc6e-8883e72a9f56",
   "metadata": {},
   "outputs": [],
   "source": [
    "Ans3."
   ]
  },
  {
   "cell_type": "code",
   "execution_count": null,
   "id": "be02cf76-4ec0-4b23-8545-e1abd40909b4",
   "metadata": {},
   "outputs": [],
   "source": [
    "Try and except statements are used to catch and handle exceptions in Python. Statements that can raise exceptions are kept inside the try clause and the statements that handle the exception are written inside except clause.\n",
    "\n"
   ]
  },
  {
   "cell_type": "code",
   "execution_count": 1,
   "id": "0e2aab5d-d6ae-4c3b-8b41-c428f6e0f781",
   "metadata": {},
   "outputs": [
    {
     "name": "stdout",
     "output_type": "stream",
     "text": [
      "You have divided a number by zero, which is not allowed.\n"
     ]
    }
   ],
   "source": [
    "try:\n",
    "    a = 10\n",
    "    b = 0\n",
    "    print(\"Result of Division: \" + str(a/b))\n",
    "except:\n",
    "    print(\"You have divided a number by zero, which is not allowed.\")"
   ]
  },
  {
   "cell_type": "code",
   "execution_count": null,
   "id": "2614e082-69cb-4534-9bbd-0cdaa69e7635",
   "metadata": {},
   "outputs": [],
   "source": [
    "Ans4."
   ]
  },
  {
   "cell_type": "code",
   "execution_count": 3,
   "id": "1ead6ce8-4f15-4da5-8f77-39296a818b24",
   "metadata": {},
   "outputs": [
    {
     "name": "stdout",
     "output_type": "stream",
     "text": [
      "this will be executed once your trry will execute without error\n"
     ]
    }
   ],
   "source": [
    "#example of try and else\n",
    "try:\n",
    "    f=open(\"test.txt\",\"w\")\n",
    "    f.write(\"write into my file\")\n",
    "    f.close()\n",
    "except Exception as e:\n",
    "    print(\"this is my block\",e)\n",
    "else:\n",
    "    f.close()\n",
    "    print(\"this will be executed once your trry will execute without error\")"
   ]
  },
  {
   "cell_type": "code",
   "execution_count": 4,
   "id": "4225e050-be26-4c34-8356-dfdf6f0b4707",
   "metadata": {},
   "outputs": [
    {
     "name": "stdout",
     "output_type": "stream",
     "text": [
      "finally will execute itself in any situation\n"
     ]
    }
   ],
   "source": [
    "#example of finally\n",
    "try:\n",
    "    f=open(\"test3.txt\",\"w\")\n",
    "    f.write(\"write into my  first file\")\n",
    "    f.close()\n",
    "finally:\n",
    "    print(\"finally will execute itself in any situation\")\n"
   ]
  },
  {
   "cell_type": "code",
   "execution_count": 5,
   "id": "e850976b-3015-4697-b199-0e7500e7c723",
   "metadata": {},
   "outputs": [],
   "source": [
    "#example of raise\n",
    "class validateage(Exception):\n",
    "    def __init__(self,msg):\n",
    "        self.msg=msg\n",
    "        \n"
   ]
  },
  {
   "cell_type": "code",
   "execution_count": 6,
   "id": "1f7d4ede-f69d-4889-b2cd-62a3e380f407",
   "metadata": {},
   "outputs": [],
   "source": [
    "def validateage(age):\n",
    "    if age < 0:\n",
    "        raise validateage(\"entered age is not possible\")\n",
    "    elif age > 200:\n",
    "        raise validateage(\"entered age is too high\")\n",
    "    else:\n",
    "        print(\"age is valid\")"
   ]
  },
  {
   "cell_type": "code",
   "execution_count": 7,
   "id": "36c85359-e43a-4dd3-bbef-19a75268b26f",
   "metadata": {},
   "outputs": [
    {
     "name": "stdin",
     "output_type": "stream",
     "text": [
      "enter your age 34\n"
     ]
    },
    {
     "name": "stdout",
     "output_type": "stream",
     "text": [
      "age is valid\n"
     ]
    }
   ],
   "source": [
    "try:\n",
    "    age=int(input(\"enter your age\"))\n",
    "    validateage(age)\n",
    "except validateage as e:\n",
    "    print(e)"
   ]
  },
  {
   "cell_type": "code",
   "execution_count": null,
   "id": "5a262181-1d24-49ab-b6d1-5344384f5073",
   "metadata": {},
   "outputs": [],
   "source": [
    "Ans5."
   ]
  },
  {
   "cell_type": "code",
   "execution_count": null,
   "id": "fd8e3e04-da78-409b-9cbb-ff9d7ae6032b",
   "metadata": {},
   "outputs": [],
   "source": [
    "custom exception is an user-defined exception,in which user can defined exception according to him/her requirement.\n",
    "\n",
    "We can create a custom Exception class to define the new Exception. Again, the idea behind using a Class is because Python treats everything as a Class. So it doesn’t seem that outlandish that an Exception can be a class as well!"
   ]
  },
  {
   "cell_type": "code",
   "execution_count": 8,
   "id": "fe246d11-d1c3-41e8-a2e1-7354bcbea6cf",
   "metadata": {},
   "outputs": [
    {
     "name": "stdout",
     "output_type": "stream",
     "text": [
      "Printing Errors:\n",
      "Custom Error\n"
     ]
    },
    {
     "ename": "MyException",
     "evalue": "Custom Message",
     "output_type": "error",
     "traceback": [
      "\u001b[0;31m---------------------------------------------------------------------------\u001b[0m",
      "\u001b[0;31mMyException\u001b[0m                               Traceback (most recent call last)",
      "Cell \u001b[0;32mIn [8], line 18\u001b[0m\n\u001b[1;32m     12\u001b[0m         \u001b[38;5;28;01mraise\u001b[39;00m MyException(\u001b[38;5;124m'\u001b[39m\u001b[38;5;124mCustom Message\u001b[39m\u001b[38;5;124m'\u001b[39m, \u001b[38;5;124m'\u001b[39m\u001b[38;5;124mCustom Error\u001b[39m\u001b[38;5;124m'\u001b[39m)\n\u001b[1;32m     14\u001b[0m \u001b[38;5;66;03m# MyException will not be raised\u001b[39;00m\n\u001b[1;32m     15\u001b[0m \u001b[38;5;66;03m# list_check([1, 2, 3, 4])\u001b[39;00m\n\u001b[1;32m     16\u001b[0m  \n\u001b[1;32m     17\u001b[0m \u001b[38;5;66;03m# MyException will be raised\u001b[39;00m\n\u001b[0;32m---> 18\u001b[0m \u001b[43mlist_check\u001b[49m\u001b[43m(\u001b[49m\u001b[43m[\u001b[49m\u001b[38;5;241;43m1\u001b[39;49m\u001b[43m,\u001b[49m\u001b[43m \u001b[49m\u001b[38;5;241;43m3\u001b[39;49m\u001b[43m,\u001b[49m\u001b[43m \u001b[49m\u001b[38;5;241;43m5\u001b[39;49m\u001b[43m]\u001b[49m\u001b[43m)\u001b[49m\n",
      "Cell \u001b[0;32mIn [8], line 12\u001b[0m, in \u001b[0;36mlist_check\u001b[0;34m(lst)\u001b[0m\n\u001b[1;32m     10\u001b[0m \u001b[38;5;28;01mdef\u001b[39;00m \u001b[38;5;21mlist_check\u001b[39m(lst):\n\u001b[1;32m     11\u001b[0m     \u001b[38;5;28;01mif\u001b[39;00m \u001b[38;5;28mlen\u001b[39m(lst) \u001b[38;5;241m%\u001b[39m \u001b[38;5;241m2\u001b[39m \u001b[38;5;241m!=\u001b[39m \u001b[38;5;241m0\u001b[39m:\n\u001b[0;32m---> 12\u001b[0m         \u001b[38;5;28;01mraise\u001b[39;00m MyException(\u001b[38;5;124m'\u001b[39m\u001b[38;5;124mCustom Message\u001b[39m\u001b[38;5;124m'\u001b[39m, \u001b[38;5;124m'\u001b[39m\u001b[38;5;124mCustom Error\u001b[39m\u001b[38;5;124m'\u001b[39m)\n",
      "\u001b[0;31mMyException\u001b[0m: Custom Message"
     ]
    }
   ],
   "source": [
    "class MyException(Exception):\n",
    "    def __init__(self, message, errors):\n",
    "        \n",
    "        super().__init__(message)\n",
    "        self.errors = errors\n",
    "        # Display the errors\n",
    "        print('Printing Errors:')\n",
    "        print(errors)\n",
    " \n",
    "def list_check(lst):\n",
    "    if len(lst) % 2 != 0:\n",
    "        raise MyException('Custom Message', 'Custom Error')\n",
    " \n",
    "# MyException will not be raised\n",
    "# list_check([1, 2, 3, 4])\n",
    " \n",
    "# MyException will be raised\n",
    "list_check([1, 3, 5])"
   ]
  },
  {
   "cell_type": "code",
   "execution_count": null,
   "id": "c8e22626-5e23-4005-8b1b-d7a60d6fa182",
   "metadata": {},
   "outputs": [],
   "source": [
    "Ans6."
   ]
  },
  {
   "cell_type": "code",
   "execution_count": null,
   "id": "b8662c1c-b4eb-4f4a-b9c1-b49636a48387",
   "metadata": {},
   "outputs": [],
   "source": []
  }
 ],
 "metadata": {
  "kernelspec": {
   "display_name": "Python 3 (ipykernel)",
   "language": "python",
   "name": "python3"
  },
  "language_info": {
   "codemirror_mode": {
    "name": "ipython",
    "version": 3
   },
   "file_extension": ".py",
   "mimetype": "text/x-python",
   "name": "python",
   "nbconvert_exporter": "python",
   "pygments_lexer": "ipython3",
   "version": "3.10.6"
  }
 },
 "nbformat": 4,
 "nbformat_minor": 5
}
