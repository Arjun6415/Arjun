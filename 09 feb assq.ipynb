{
 "cells": [
  {
   "cell_type": "code",
   "execution_count": null,
   "id": "7d0ce881-312a-4b8c-875d-a6ad83a8fc3b",
   "metadata": {},
   "outputs": [],
   "source": [
    "Ans1."
   ]
  },
  {
   "cell_type": "code",
   "execution_count": 3,
   "id": "151f668d-f8d1-400e-a6f2-794099b3f021",
   "metadata": {},
   "outputs": [],
   "source": [
    "class Vehicle:\n",
    "    def __init__(self,name_of_vehicle,max_speed,average_of_vehicle):\n",
    "        self.name_of_vehicle=name_of_vehicle\n",
    "        self.max_speed=max_speed\n",
    "        self.average_of_vehicle=average_of_vehicle\n",
    "\n",
    "bmw=Vehicle(\"BMW\",300,10)        "
   ]
  },
  {
   "cell_type": "code",
   "execution_count": null,
   "id": "0aef1e73-9eff-469b-a75b-19e963b55d99",
   "metadata": {},
   "outputs": [],
   "source": [
    "Ans2."
   ]
  },
  {
   "cell_type": "code",
   "execution_count": 4,
   "id": "cd64ea4a-3d7a-4322-b39a-cf208e11a309",
   "metadata": {},
   "outputs": [
    {
     "data": {
      "text/plain": [
       "(5, 'vitara breeza')"
      ]
     },
     "execution_count": 4,
     "metadata": {},
     "output_type": "execute_result"
    }
   ],
   "source": [
    "class Vitara_Breeza(Vehicle):\n",
    "    \n",
    "    def seating_capacity(self,capacity):\n",
    "        self.capacity=capacity\n",
    "        return self.capacity,self.name_of_vehicle\n",
    "\n",
    "vm=Vitara_Breeza(\"vitara breeza\",180,40)\n",
    "vm.seating_capacity(5)"
   ]
  },
  {
   "cell_type": "code",
   "execution_count": null,
   "id": "d2933aab-ff9a-4d47-9ac0-672d8e34e80e",
   "metadata": {},
   "outputs": [],
   "source": [
    "Ans3."
   ]
  },
  {
   "cell_type": "code",
   "execution_count": 5,
   "id": "1ba9e4a9-747e-43d1-80a8-f10033f4ee2e",
   "metadata": {},
   "outputs": [
    {
     "name": "stdout",
     "output_type": "stream",
     "text": [
      "In Class1\n"
     ]
    }
   ],
   "source": [
    "class Class1():\n",
    "    def m(self):\n",
    "        print(\"In Class1\")\n",
    "        \n",
    "class Class2():\n",
    "    def m(self):\n",
    "        print(\"In Class2\") \n",
    "        \n",
    "class Class3(Class1, Class2):\n",
    "    pass  \n",
    "     \n",
    "obj = Class3()\n",
    "obj.m()"
   ]
  },
  {
   "cell_type": "code",
   "execution_count": null,
   "id": "02a93c26-a623-4c72-ad70-fa30a73ea8f5",
   "metadata": {},
   "outputs": [],
   "source": [
    "Ans4."
   ]
  },
  {
   "cell_type": "code",
   "execution_count": 6,
   "id": "5dd64143-7e5a-4db3-9fff-f78c7d81f9b1",
   "metadata": {},
   "outputs": [
    {
     "name": "stdout",
     "output_type": "stream",
     "text": [
      "21\n"
     ]
    }
   ],
   "source": [
    "class Geek:\n",
    "    def __init__(self, age = 0):\n",
    "        self._age = age\n",
    "\n",
    "    # getter method\n",
    "    def get_age(self):\n",
    "        return self._age\n",
    "\n",
    "    # setter method\n",
    "    def set_age(self, x):\n",
    "        self._age = x\n",
    "\n",
    "raj = Geek()\n",
    "\n",
    "raj.set_age(21)\n",
    "\n",
    "\n",
    "print(raj.get_age())"
   ]
  },
  {
   "cell_type": "code",
   "execution_count": null,
   "id": "3140ea07-6510-4dab-b886-d76ce765d40d",
   "metadata": {},
   "outputs": [],
   "source": [
    "Ans4."
   ]
  },
  {
   "cell_type": "code",
   "execution_count": 7,
   "id": "853fd47e-00e7-405e-be70-d748186af434",
   "metadata": {},
   "outputs": [
    {
     "name": "stdout",
     "output_type": "stream",
     "text": [
      "Inside Child\n"
     ]
    }
   ],
   "source": [
    "class Parent1():\n",
    "\n",
    "\n",
    "    def show(self):\n",
    "        print(\"Inside Parent1\")\n",
    "\n",
    "\n",
    "\n",
    "class Child(Parent1):\n",
    "\n",
    "\n",
    "     def show(self):\n",
    "        print(\"Inside Child\")\n",
    "\n",
    "obj = Child()\n",
    "\n",
    "obj.show()"
   ]
  },
  {
   "cell_type": "code",
   "execution_count": null,
   "id": "c1d2b534-3886-42bf-909b-9c7d245edb4d",
   "metadata": {},
   "outputs": [],
   "source": [
    "Ans5."
   ]
  },
  {
   "cell_type": "code",
   "execution_count": null,
   "id": "52c6b376-5829-4c59-b8b5-29d0a200b7e5",
   "metadata": {},
   "outputs": [],
   "source": []
  }
 ],
 "metadata": {
  "kernelspec": {
   "display_name": "Python 3 (ipykernel)",
   "language": "python",
   "name": "python3"
  },
  "language_info": {
   "codemirror_mode": {
    "name": "ipython",
    "version": 3
   },
   "file_extension": ".py",
   "mimetype": "text/x-python",
   "name": "python",
   "nbconvert_exporter": "python",
   "pygments_lexer": "ipython3",
   "version": "3.10.6"
  }
 },
 "nbformat": 4,
 "nbformat_minor": 5
}
