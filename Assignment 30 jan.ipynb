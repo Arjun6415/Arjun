{
 "cells": [
  {
   "cell_type": "code",
   "execution_count": null,
   "id": "55042ed7-7532-491b-8e76-5aa853eb66d8",
   "metadata": {},
   "outputs": [],
   "source": [
    "ANSWER 1."
   ]
  },
  {
   "cell_type": "code",
   "execution_count": 26,
   "id": "bfd09fc8-6ea3-45cb-b3e0-c472c4827603",
   "metadata": {},
   "outputs": [
    {
     "name": "stdin",
     "output_type": "stream",
     "text": [
      "enter Percentage criteria 90\n"
     ]
    },
    {
     "name": "stdout",
     "output_type": "stream",
     "text": [
      "Grade B\n"
     ]
    }
   ],
   "source": [
    "\n",
    "marks = int(input(\"enter Percentage criteria\"))\n",
    "if marks > 90 :\n",
    "    print(\"Grade A\")\n",
    "elif marks > 80 and marks <= 90:\n",
    "        print(\"Grade B\")\n",
    "\n",
    "elif marks >= 60 and marks <= 80:\n",
    "            print(\"Grade C\")\n",
    "    \n",
    "else:\n",
    "    print(\"Grade D\")\n",
    "    "
   ]
  },
  {
   "cell_type": "code",
   "execution_count": null,
   "id": "343d0971-355d-43a2-868e-34c5335446ea",
   "metadata": {},
   "outputs": [],
   "source": [
    "ANSWER 2."
   ]
  },
  {
   "cell_type": "code",
   "execution_count": 27,
   "id": "1b5c8a35-e8de-4d39-ac64-03f6340b7569",
   "metadata": {},
   "outputs": [
    {
     "name": "stdin",
     "output_type": "stream",
     "text": [
      "enter the cost price of bike 50000\n"
     ]
    },
    {
     "name": "stdout",
     "output_type": "stream",
     "text": [
      "tax to be paid 5%\n"
     ]
    }
   ],
   "source": [
    "\n",
    "P=int(input(\"enter the cost price of bike\"))\n",
    "if P > 100000:\n",
    "    print(\"tax to be paid 15%\")\n",
    "elif P > 50000 and  P <= 100000:\n",
    "    print(\"tax to be paid 10%\")\n",
    "else:\n",
    "    print(\"tax to be paid 5%\")"
   ]
  },
  {
   "cell_type": "code",
   "execution_count": null,
   "id": "7be1f161-798f-4b1c-904e-ae27a5c6df54",
   "metadata": {},
   "outputs": [],
   "source": [
    "ANSWER 3."
   ]
  },
  {
   "cell_type": "code",
   "execution_count": 31,
   "id": "1d5742b1-589a-4369-b9f4-08e08b220b5d",
   "metadata": {},
   "outputs": [
    {
     "name": "stdin",
     "output_type": "stream",
     "text": [
      "enter your city Delhi\n"
     ]
    },
    {
     "name": "stdout",
     "output_type": "stream",
     "text": [
      "Red Fort\n"
     ]
    }
   ],
   "source": [
    "city = str(input(\"enter your city\"))\n",
    "if city ==  \"Delhi\":\n",
    "    print(\"Red Fort\")\n",
    "elif city == \"Agra\":\n",
    "    print(\"Taj Mahal\")\n",
    "else:\n",
    "    print(\"Jal Mahal\")"
   ]
  },
  {
   "cell_type": "code",
   "execution_count": null,
   "id": "1cfd9f85-b308-4b4b-8ecc-a5393b494c51",
   "metadata": {},
   "outputs": [],
   "source": [
    "ANSWER 4."
   ]
  },
  {
   "cell_type": "code",
   "execution_count": 35,
   "id": "b5d15793-b0c7-4859-8572-d780c9b07501",
   "metadata": {
    "tags": []
   },
   "outputs": [
    {
     "name": "stdin",
     "output_type": "stream",
     "text": [
      "enter a number 90\n"
     ]
    },
    {
     "name": "stdout",
     "output_type": "stream",
     "text": [
      "time of division 2\n"
     ]
    }
   ],
   "source": [
    "n = int(input(\"enter a number\"))\n",
    "count = 0\n",
    "while(n>10):\n",
    "    n=n/3 \n",
    "    count+=1\n",
    "print(\"time of division\",count)    "
   ]
  },
  {
   "cell_type": "code",
   "execution_count": null,
   "id": "29c535d9-9e6e-4e6d-9d1a-cb022c76f639",
   "metadata": {},
   "outputs": [],
   "source": [
    "ANSWER 5."
   ]
  },
  {
   "cell_type": "code",
   "execution_count": null,
   "id": "b8cf9e96-f8c7-48b0-ae6b-7a0edf24b2ab",
   "metadata": {},
   "outputs": [],
   "source": [
    "while loop in python is used to run a block of code until a certain \n",
    "condition is met. when a certain condition is met yhe loop terminates.\n",
    "\n",
    "Example:\n",
    "    count=0\n",
    "    while count <=4 :\n",
    "        print(\"hello\")\n",
    "        count+=1"
   ]
  },
  {
   "cell_type": "code",
   "execution_count": null,
   "id": "b1df38f8-5b6c-425e-85a3-8eee559d619f",
   "metadata": {},
   "outputs": [],
   "source": [
    "ANSWER 6."
   ]
  },
  {
   "cell_type": "code",
   "execution_count": 45,
   "id": "67f7e45c-eb8e-4aef-882c-725d236dabd0",
   "metadata": {},
   "outputs": [
    {
     "name": "stdin",
     "output_type": "stream",
     "text": [
      "enter the number of rows 4\n"
     ]
    },
    {
     "name": "stdout",
     "output_type": "stream",
     "text": [
      "*  \n",
      "* *  \n",
      "* * *  \n",
      "* * * *  \n"
     ]
    }
   ],
   "source": [
    "row = int(input(\"enter the number of rows\"))\n",
    "i=1\n",
    "while i <= row:\n",
    "    j=1\n",
    "    while j <=i:\n",
    "        print(\"*\",end = \" \")\n",
    "        j = j+1\n",
    "    print(\" \")\n",
    "    i+=1"
   ]
  },
  {
   "cell_type": "code",
   "execution_count": null,
   "id": "60b44b1c-650e-4af0-9272-b7584c2b998f",
   "metadata": {},
   "outputs": [],
   "source": [
    "ANSWER 7."
   ]
  },
  {
   "cell_type": "code",
   "execution_count": 43,
   "id": "bea0f40a-c27a-4313-98fa-25b4d3b3a96e",
   "metadata": {},
   "outputs": [
    {
     "name": "stdout",
     "output_type": "stream",
     "text": [
      "10\n",
      "9\n",
      "8\n",
      "7\n",
      "6\n",
      "5\n",
      "4\n",
      "3\n",
      "2\n",
      "1\n"
     ]
    }
   ],
   "source": [
    "\n",
    "\n",
    "\n",
    "n=10\n",
    "while n>0:\n",
    "    print(n)\n",
    "    n-=1"
   ]
  },
  {
   "cell_type": "code",
   "execution_count": null,
   "id": "81e6c684-66ba-49d2-b11e-97d9d712130d",
   "metadata": {},
   "outputs": [],
   "source": [
    "ANSWER 8."
   ]
  },
  {
   "cell_type": "code",
   "execution_count": 44,
   "id": "4d723e14-94ca-410f-a95d-e678f3784ad0",
   "metadata": {},
   "outputs": [
    {
     "name": "stdout",
     "output_type": "stream",
     "text": [
      "10\n",
      "9\n",
      "8\n",
      "7\n",
      "6\n",
      "5\n",
      "4\n",
      "3\n",
      "2\n",
      "1\n"
     ]
    }
   ],
   "source": [
    "n=10\n",
    "while n>0:\n",
    "    print(n)\n",
    "    n-=1"
   ]
  }
 ],
 "metadata": {
  "kernelspec": {
   "display_name": "Python 3 (ipykernel)",
   "language": "python",
   "name": "python3"
  },
  "language_info": {
   "codemirror_mode": {
    "name": "ipython",
    "version": 3
   },
   "file_extension": ".py",
   "mimetype": "text/x-python",
   "name": "python",
   "nbconvert_exporter": "python",
   "pygments_lexer": "ipython3",
   "version": "3.10.6"
  }
 },
 "nbformat": 4,
 "nbformat_minor": 5
}
