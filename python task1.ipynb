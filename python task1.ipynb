{
 "cells": [
  {
   "cell_type": "code",
   "execution_count": null,
   "id": "4a26d163-9b0f-407b-b40d-228141befcd5",
   "metadata": {},
   "outputs": [],
   "source": [
    "Ans1."
   ]
  },
  {
   "cell_type": "code",
   "execution_count": 1,
   "id": "51064623-e971-412e-a651-3a71ce9017eb",
   "metadata": {},
   "outputs": [
    {
     "name": "stdout",
     "output_type": "stream",
     "text": [
      "4134711838987085478833841242112000\n"
     ]
    }
   ],
   "source": [
    "list1 = [1,2,3,4, [44,55,66, True], False, (34,56,78,89,34), {1,2,3,3,2,1},{1:34, \"key2\": [55, 67, 78, 89], 4: (45,22, 61, 34)},\n",
    "         [56, 'data science'], 'Machine Learning']\n",
    "\n",
    "# phase 1\n",
    "def flatlist(list1):\n",
    "    flist=[]\n",
    "    for i in list1:\n",
    "        if type(i)==list or type(i)==tuple or type(i)==set:\n",
    "            for element in i:\n",
    "                flist.append(element)\n",
    "        elif type(i)==dict:\n",
    "            temp_list=list(i.items())\n",
    "            for i in temp_list:\n",
    "                for element in i:\n",
    "                    if type(element)==list or type(element)==tuple:\n",
    "                         for j in element:\n",
    "                            flist.append(j)\n",
    "                    else:\n",
    "                        flist.append(element)\n",
    "                    \n",
    "        else:\n",
    "            flist.append(i)\n",
    "    return flist\n",
    "\n",
    "\n",
    "list2=flatlist(list1)\n",
    "\n",
    "# print(list2)\n",
    "\n",
    "a=1\n",
    "for i in list2:\n",
    "    if type(i)==int:\n",
    "        a=a*i\n",
    "print(a)        \n",
    "        "
   ]
  },
  {
   "cell_type": "code",
   "execution_count": null,
   "id": "fce75f18-9303-4130-b93b-f2c917eafb16",
   "metadata": {},
   "outputs": [],
   "source": [
    "Ans2."
   ]
  },
  {
   "cell_type": "code",
   "execution_count": 2,
   "id": "d3b2e4fd-57fe-4982-bf2a-e2477fb766f3",
   "metadata": {},
   "outputs": [],
   "source": [
    "dict={'a':'x','b':'y','c':'x','d':'w','e':'v','f':'u','g':'t','h':'s','i':'r',\n",
    "    'j':'q','k':'p','l':'o','m':'n','n':'m','o':'l','p':'k','q':'j','r':'i',\n",
    "     's':'h','t':'g','u':'f','v':'e','w':'d','x':'c','y':'b',\n",
    "      'z':'a'}\n",
    "s=\"I want to become a Data Scientist\"\n",
    "new_s=s.lower()\n",
    "for i in new_s:\n",
    "    if i==\" \":\n",
    "        new_s=new_s.replace(\" \",\"$\")"
   ]
  },
  {
   "cell_type": "code",
   "execution_count": 3,
   "id": "1ed89aab-cd30-4f2a-a7cc-fb6495a8e2cf",
   "metadata": {},
   "outputs": [
    {
     "data": {
      "text/plain": [
       "'i$want$to$become$a$data$scientist'"
      ]
     },
     "execution_count": 3,
     "metadata": {},
     "output_type": "execute_result"
    }
   ],
   "source": [
    "new_s"
   ]
  },
  {
   "cell_type": "code",
   "execution_count": 4,
   "id": "524101d1-2c24-4f46-88dd-d6fead7fc961",
   "metadata": {},
   "outputs": [],
   "source": [
    "for element in new_s:\n",
    "    if element in dict.keys():\n",
    "        new_s=new_s.replace(element,dict[element])"
   ]
  },
  {
   "cell_type": "code",
   "execution_count": 5,
   "id": "5cd2bf76-b696-460e-99f6-6c34dcafa48b",
   "metadata": {},
   "outputs": [
    {
     "data": {
      "text/plain": [
       "'r$wxmg$gl$yvxlmv$x$wxgx$hxrvmgrhg'"
      ]
     },
     "execution_count": 5,
     "metadata": {},
     "output_type": "execute_result"
    }
   ],
   "source": [
    "new_s"
   ]
  },
  {
   "cell_type": "code",
   "execution_count": null,
   "id": "45525651-6552-42da-af4d-9ad93603e281",
   "metadata": {},
   "outputs": [],
   "source": []
  }
 ],
 "metadata": {
  "kernelspec": {
   "display_name": "Python 3 (ipykernel)",
   "language": "python",
   "name": "python3"
  },
  "language_info": {
   "codemirror_mode": {
    "name": "ipython",
    "version": 3
   },
   "file_extension": ".py",
   "mimetype": "text/x-python",
   "name": "python",
   "nbconvert_exporter": "python",
   "pygments_lexer": "ipython3",
   "version": "3.10.6"
  }
 },
 "nbformat": 4,
 "nbformat_minor": 5
}
